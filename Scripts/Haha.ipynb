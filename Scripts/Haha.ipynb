{
 "cells": [
  {
   "cell_type": "code",
   "execution_count": 131,
   "metadata": {},
   "outputs": [
    {
     "name": "stdout",
     "output_type": "stream",
     "text": [
      "Requirement already satisfied: torch in /opt/anaconda3/envs/name_of_my_env/lib/python3.10/site-packages (2.0.1)\n",
      "Requirement already satisfied: typing-extensions in /opt/anaconda3/envs/name_of_my_env/lib/python3.10/site-packages (from torch) (4.5.0)\n",
      "Requirement already satisfied: networkx in /opt/anaconda3/envs/name_of_my_env/lib/python3.10/site-packages (from torch) (3.1)\n",
      "Requirement already satisfied: jinja2 in /opt/anaconda3/envs/name_of_my_env/lib/python3.10/site-packages (from torch) (3.1.2)\n",
      "Requirement already satisfied: filelock in /opt/anaconda3/envs/name_of_my_env/lib/python3.10/site-packages (from torch) (3.12.0)\n",
      "Requirement already satisfied: sympy in /opt/anaconda3/envs/name_of_my_env/lib/python3.10/site-packages (from torch) (1.12)\n",
      "Requirement already satisfied: MarkupSafe>=2.0 in /opt/anaconda3/envs/name_of_my_env/lib/python3.10/site-packages (from jinja2->torch) (2.1.3)\n",
      "Requirement already satisfied: mpmath>=0.19 in /opt/anaconda3/envs/name_of_my_env/lib/python3.10/site-packages (from sympy->torch) (1.3.0)\n",
      "Note: you may need to restart the kernel to use updated packages.\n"
     ]
    }
   ],
   "source": [
    "%pip install torch\n",
    "import pandas as pd\n",
    "import numpy as np\n",
    "import seaborn as sns\n",
    "from sklearn.model_selection import train_test_split # Import train_test_split function\n",
    "from matplotlib import pyplot as plt\n",
    "import numpy as np\n",
    "import torch\n",
    "from torch.utils.data import Dataset, DataLoader\n",
    "import torch.nn as nn"
   ]
  },
  {
   "cell_type": "code",
   "execution_count": 132,
   "metadata": {},
   "outputs": [],
   "source": [
    "class Data(Dataset):\n",
    "  def __init__(self, X_train, y_train):\n",
    "    # need to convert float64 to float32 else \n",
    "    # will get the following error\n",
    "    # RuntimeError: expected scalar type Double but found Float\n",
    "    self.X = torch.from_numpy(X_train.astype(np.float32))\n",
    "    # need to convert float64 to Long else \n",
    "    # will get the following error\n",
    "    # RuntimeError: expected scalar type Long but found Float\n",
    "    self.y = torch.from_numpy(y_train).type(torch.LongTensor)\n",
    "    self.len = self.X.shape[0]\n",
    "  \n",
    "  def __getitem__(self, index):\n",
    "    return self.X[index], self.y[index]\n",
    "  def __len__(self):\n",
    "    return self.len"
   ]
  },
  {
   "cell_type": "code",
   "execution_count": 133,
   "metadata": {},
   "outputs": [],
   "source": [
    "yescols = [\"danceability\", \"key\",\n",
    "       \"loudness\", \"mode\", \"speechiness\", \"acousticness\", \"instrumentalness\",\n",
    "       \"valence\", \"tempo\"]\n",
    "nocols = ['names','albums', \"energy\", 'types', 'duration_ms', 'time_signature']"
   ]
  },
  {
   "cell_type": "code",
   "execution_count": 134,
   "metadata": {},
   "outputs": [],
   "source": [
    "# number of features (len of X cols)\n",
    "input_dim = len(yescols)\n",
    "# number of hidden layers\n",
    "hidden_layers = 4\n",
    "# number of classes (unique of y)\n",
    "output_dim = 2\n",
    "class Network(nn.Module):\n",
    "  def __init__(self):\n",
    "    super(Network, self).__init__()\n",
    "    self.linear1 = nn.Linear(input_dim, hidden_layers)\n",
    "    self.linear2 = nn.Linear(hidden_layers, output_dim)\n",
    "  def forward(self, x):\n",
    "    x = torch.sigmoid(self.linear1(x))\n",
    "    x = self.linear2(x)\n",
    "    return x"
   ]
  },
  {
   "cell_type": "code",
   "execution_count": 135,
   "metadata": {},
   "outputs": [
    {
     "data": {
      "text/html": [
       "<div>\n",
       "<style scoped>\n",
       "    .dataframe tbody tr th:only-of-type {\n",
       "        vertical-align: middle;\n",
       "    }\n",
       "\n",
       "    .dataframe tbody tr th {\n",
       "        vertical-align: top;\n",
       "    }\n",
       "\n",
       "    .dataframe thead th {\n",
       "        text-align: right;\n",
       "    }\n",
       "</style>\n",
       "<table border=\"1\" class=\"dataframe\">\n",
       "  <thead>\n",
       "    <tr style=\"text-align: right;\">\n",
       "      <th></th>\n",
       "      <th>Unnamed: 0</th>\n",
       "      <th>names</th>\n",
       "      <th>albums</th>\n",
       "      <th>danceability</th>\n",
       "      <th>energy</th>\n",
       "      <th>key</th>\n",
       "      <th>loudness</th>\n",
       "      <th>mode</th>\n",
       "      <th>speechiness</th>\n",
       "      <th>acousticness</th>\n",
       "      <th>instrumentalness</th>\n",
       "      <th>valence</th>\n",
       "      <th>tempo</th>\n",
       "      <th>types</th>\n",
       "      <th>duration_ms</th>\n",
       "      <th>time_signature</th>\n",
       "      <th>Labels</th>\n",
       "    </tr>\n",
       "  </thead>\n",
       "  <tbody>\n",
       "    <tr>\n",
       "      <th>0</th>\n",
       "      <td>0</td>\n",
       "      <td>Get Got</td>\n",
       "      <td>The Money Store</td>\n",
       "      <td>0.570</td>\n",
       "      <td>0.993</td>\n",
       "      <td>7</td>\n",
       "      <td>-3.757</td>\n",
       "      <td>1</td>\n",
       "      <td>0.337</td>\n",
       "      <td>0.00628</td>\n",
       "      <td>0.007960</td>\n",
       "      <td>0.405</td>\n",
       "      <td>87.000</td>\n",
       "      <td>audio_features</td>\n",
       "      <td>171867</td>\n",
       "      <td>4</td>\n",
       "      <td>1</td>\n",
       "    </tr>\n",
       "    <tr>\n",
       "      <th>1</th>\n",
       "      <td>1</td>\n",
       "      <td>The Fever (Aye Aye)</td>\n",
       "      <td>The Money Store</td>\n",
       "      <td>0.432</td>\n",
       "      <td>0.940</td>\n",
       "      <td>10</td>\n",
       "      <td>-4.099</td>\n",
       "      <td>0</td>\n",
       "      <td>0.374</td>\n",
       "      <td>0.15900</td>\n",
       "      <td>0.000000</td>\n",
       "      <td>0.225</td>\n",
       "      <td>80.084</td>\n",
       "      <td>audio_features</td>\n",
       "      <td>186973</td>\n",
       "      <td>4</td>\n",
       "      <td>1</td>\n",
       "    </tr>\n",
       "    <tr>\n",
       "      <th>2</th>\n",
       "      <td>2</td>\n",
       "      <td>Lost Boys</td>\n",
       "      <td>The Money Store</td>\n",
       "      <td>0.464</td>\n",
       "      <td>0.949</td>\n",
       "      <td>2</td>\n",
       "      <td>-2.454</td>\n",
       "      <td>1</td>\n",
       "      <td>0.336</td>\n",
       "      <td>0.00300</td>\n",
       "      <td>0.000113</td>\n",
       "      <td>0.374</td>\n",
       "      <td>77.121</td>\n",
       "      <td>audio_features</td>\n",
       "      <td>186320</td>\n",
       "      <td>4</td>\n",
       "      <td>1</td>\n",
       "    </tr>\n",
       "    <tr>\n",
       "      <th>3</th>\n",
       "      <td>3</td>\n",
       "      <td>Blackjack</td>\n",
       "      <td>The Money Store</td>\n",
       "      <td>0.532</td>\n",
       "      <td>0.855</td>\n",
       "      <td>4</td>\n",
       "      <td>-3.014</td>\n",
       "      <td>0</td>\n",
       "      <td>0.301</td>\n",
       "      <td>0.25900</td>\n",
       "      <td>0.000000</td>\n",
       "      <td>0.534</td>\n",
       "      <td>136.902</td>\n",
       "      <td>audio_features</td>\n",
       "      <td>142000</td>\n",
       "      <td>4</td>\n",
       "      <td>1</td>\n",
       "    </tr>\n",
       "    <tr>\n",
       "      <th>4</th>\n",
       "      <td>4</td>\n",
       "      <td>Hustle Bones</td>\n",
       "      <td>The Money Store</td>\n",
       "      <td>0.600</td>\n",
       "      <td>0.982</td>\n",
       "      <td>4</td>\n",
       "      <td>-2.996</td>\n",
       "      <td>0</td>\n",
       "      <td>0.201</td>\n",
       "      <td>0.10400</td>\n",
       "      <td>0.000000</td>\n",
       "      <td>0.277</td>\n",
       "      <td>110.015</td>\n",
       "      <td>audio_features</td>\n",
       "      <td>192360</td>\n",
       "      <td>4</td>\n",
       "      <td>1</td>\n",
       "    </tr>\n",
       "  </tbody>\n",
       "</table>\n",
       "</div>"
      ],
      "text/plain": [
       "   Unnamed: 0                names           albums  danceability  energy  \\\n",
       "0           0              Get Got  The Money Store         0.570   0.993   \n",
       "1           1  The Fever (Aye Aye)  The Money Store         0.432   0.940   \n",
       "2           2            Lost Boys  The Money Store         0.464   0.949   \n",
       "3           3            Blackjack  The Money Store         0.532   0.855   \n",
       "4           4         Hustle Bones  The Money Store         0.600   0.982   \n",
       "\n",
       "   key  loudness  mode  speechiness  acousticness  instrumentalness  valence  \\\n",
       "0    7    -3.757     1        0.337       0.00628          0.007960    0.405   \n",
       "1   10    -4.099     0        0.374       0.15900          0.000000    0.225   \n",
       "2    2    -2.454     1        0.336       0.00300          0.000113    0.374   \n",
       "3    4    -3.014     0        0.301       0.25900          0.000000    0.534   \n",
       "4    4    -2.996     0        0.201       0.10400          0.000000    0.277   \n",
       "\n",
       "     tempo           types  duration_ms  time_signature  Labels  \n",
       "0   87.000  audio_features       171867               4       1  \n",
       "1   80.084  audio_features       186973               4       1  \n",
       "2   77.121  audio_features       186320               4       1  \n",
       "3  136.902  audio_features       142000               4       1  \n",
       "4  110.015  audio_features       192360               4       1  "
      ]
     },
     "execution_count": 135,
     "metadata": {},
     "output_type": "execute_result"
    }
   ],
   "source": [
    "df = pd.read_csv('DeathGripsDataset.csv')\n",
    "df.head()"
   ]
  },
  {
   "cell_type": "code",
   "execution_count": 136,
   "metadata": {},
   "outputs": [],
   "source": [
    "X = np.array(df[yescols])\n",
    "Y = np.array(df.Labels)\n",
    "X_train, X_test, Y_train, Y_test = train_test_split(X, Y, test_size=0.3, random_state=42) # 70% training and 30% test"
   ]
  },
  {
   "cell_type": "code",
   "execution_count": 137,
   "metadata": {},
   "outputs": [],
   "source": [
    "traindata = Data(X_train, Y_train)\n",
    "batch_size = 1\n",
    "trainloader = DataLoader(traindata, batch_size=batch_size, \n",
    "                         shuffle=True, num_workers=0)"
   ]
  },
  {
   "cell_type": "code",
   "execution_count": 138,
   "metadata": {},
   "outputs": [
    {
     "data": {
      "text/plain": [
       "<All keys matched successfully>"
      ]
     },
     "execution_count": 138,
     "metadata": {},
     "output_type": "execute_result"
    }
   ],
   "source": [
    "clf = Network()\n",
    "PATH = './mymodel.pth'\n",
    "clf.load_state_dict(torch.load(PATH))"
   ]
  },
  {
   "cell_type": "code",
   "execution_count": 139,
   "metadata": {},
   "outputs": [
    {
     "name": "stdout",
     "output_type": "stream",
     "text": [
      "<bound method Module.parameters of Network(\n",
      "  (linear1): Linear(in_features=9, out_features=4, bias=True)\n",
      "  (linear2): Linear(in_features=4, out_features=2, bias=True)\n",
      ")>\n"
     ]
    }
   ],
   "source": [
    "print(clf.parameters)\n",
    "criterion = nn.CrossEntropyLoss()\n",
    "optimizer = torch.optim.SGD(clf.parameters(), lr=0.1)"
   ]
  },
  {
   "cell_type": "code",
   "execution_count": 140,
   "metadata": {},
   "outputs": [
    {
     "name": "stdout",
     "output_type": "stream",
     "text": [
      "[1,    61] loss: 0.02197\n"
     ]
    },
    {
     "name": "stdout",
     "output_type": "stream",
     "text": [
      "[2,    61] loss: 0.02153\n",
      "[3,    61] loss: 0.02136\n",
      "[4,    61] loss: 0.02150\n",
      "[5,    61] loss: 0.02188\n"
     ]
    }
   ],
   "source": [
    "epochs = 5\n",
    "for epoch in range(epochs):\n",
    "  running_loss = 0.0\n",
    "  for i, data in enumerate(trainloader, 0):\n",
    "    inputs, labels = data\n",
    "    # set optimizer to zero grad to remove previous epoch gradients\n",
    "    optimizer.zero_grad()\n",
    "    # forward propagation\n",
    "    outputs = clf(inputs)\n",
    "    loss = criterion(outputs, labels)\n",
    "    # backward propagation\n",
    "    loss.backward()\n",
    "    # optimize\n",
    "    optimizer.step()\n",
    "    running_loss += loss.item()\n",
    "  # display statistics\n",
    "  print(f'[{epoch + 1}, {i + 1:5d}] loss: {running_loss / 2000:.5f}')"
   ]
  },
  {
   "cell_type": "code",
   "execution_count": 141,
   "metadata": {},
   "outputs": [],
   "source": [
    "torch.save(clf.state_dict(), PATH)"
   ]
  },
  {
   "cell_type": "code",
   "execution_count": 142,
   "metadata": {},
   "outputs": [],
   "source": [
    "testdata = Data(X_test, Y_test)\n",
    "testloader = DataLoader(testdata, batch_size=batch_size, \n",
    "                        shuffle=True, num_workers=0)"
   ]
  },
  {
   "cell_type": "code",
   "execution_count": 143,
   "metadata": {},
   "outputs": [
    {
     "name": "stdout",
     "output_type": "stream",
     "text": [
      "Accuracy of the network on the 27 test data: 55 %\n"
     ]
    }
   ],
   "source": [
    "correct, total = 0, 0\n",
    "# no need to calculate gradients during inference\n",
    "with torch.no_grad():\n",
    "  for data in testloader:\n",
    "    inputs, labels = data\n",
    "    # calculate output by running through the network\n",
    "    outputs = clf(inputs)\n",
    "    # get the predictions\n",
    "    __, predicted = torch.max(outputs.data, 1)\n",
    "    # update results\n",
    "    total += labels.size(0)\n",
    "    correct += (predicted == labels).sum().item()\n",
    "print(f'Accuracy of the network on the {len(testdata)} test data: {100 * correct // total} %')"
   ]
  }
 ],
 "metadata": {
  "kernelspec": {
   "display_name": "name_of_my_env",
   "language": "python",
   "name": "python3"
  },
  "language_info": {
   "codemirror_mode": {
    "name": "ipython",
    "version": 3
   },
   "file_extension": ".py",
   "mimetype": "text/x-python",
   "name": "python",
   "nbconvert_exporter": "python",
   "pygments_lexer": "ipython3",
   "version": "3.10.9"
  },
  "orig_nbformat": 4
 },
 "nbformat": 4,
 "nbformat_minor": 2
}
