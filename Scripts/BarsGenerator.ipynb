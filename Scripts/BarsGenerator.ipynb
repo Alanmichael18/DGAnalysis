{
  "cells": [
    {
      "cell_type": "code",
      "execution_count": 191,
      "metadata": {},
      "outputs": [],
      "source": [
        "import pandas as pd\n",
        "import numpy as np\n",
        "import re\n",
        "from collections import Counter\n",
        "import matplotlib.pyplot as plt"
      ]
    },
    {
      "cell_type": "code",
      "execution_count": 192,
      "metadata": {
        "id": "1xx-vxjFu4Ii"
      },
      "outputs": [],
      "source": [
        "def generateTable(data,k):\n",
        "\n",
        "    T = {}\n",
        "    for i in range(len(data)-k):\n",
        "        X = data[i:i+k]\n",
        "        Y = data[i+k]\n",
        "        #print(\"X  %s and Y %s  \"%(X,Y))\n",
        "\n",
        "        #print(\"First\", T.get(X))\n",
        "        if T.get(X) is None:\n",
        "            T[X] = {}\n",
        "            T[X][Y] = 1\n",
        "        else:\n",
        "            #print(\"Second\", T[X].get(Y))\n",
        "            if T[X].get(Y) is None:\n",
        "                T[X][Y] = 1\n",
        "            else:\n",
        "                T[X][Y] += 1\n",
        "\n",
        "    return T"
      ]
    },
    {
      "cell_type": "code",
      "execution_count": 193,
      "metadata": {
        "id": "U6zh24qju1-i"
      },
      "outputs": [],
      "source": [
        "def convertFreqIntoProb(T):\n",
        "    for kx in T.keys():\n",
        "        s = float(sum(T[kx].values()))\n",
        "        #print(T.keys())\n",
        "        #print(T[kx].keys())\n",
        "        for k in T[kx].keys():\n",
        "            T[kx][k] = T[kx][k]/s\n",
        "\n",
        "    return T"
      ]
    },
    {
      "cell_type": "code",
      "execution_count": 194,
      "metadata": {
        "id": "lCWsierduzli"
      },
      "outputs": [],
      "source": [
        "def load_text(filename):\n",
        "    with open(filename,encoding='utf8') as f:\n",
        "        return f.read().lower()"
      ]
    },
    {
      "cell_type": "code",
      "execution_count": 195,
      "metadata": {
        "id": "iuaNECEsuxyS"
      },
      "outputs": [],
      "source": [
        "def MarkovChain(text,k):\n",
        "    T = generateTable(text,k)\n",
        "    T = convertFreqIntoProb(T)\n",
        "    return T"
      ]
    },
    {
      "cell_type": "code",
      "execution_count": 196,
      "metadata": {
        "id": "llh-3LUguuWU"
      },
      "outputs": [],
      "source": [
        "import numpy as np\n",
        "\n",
        "def sample_next(ctx,model,k):\n",
        "    ctx = ctx[-k:]\n",
        "    if model.get(ctx) is None:\n",
        "        return \" \"\n",
        "    possible_Chars = list(model[ctx].keys())\n",
        "    possible_values = list(model[ctx].values())\n",
        "\n",
        "    #print(possible_Chars)\n",
        "    #print(possible_values)\n",
        "\n",
        "    return np.random.choice(possible_Chars,p=possible_values)"
      ]
    },
    {
      "cell_type": "code",
      "execution_count": 197,
      "metadata": {
        "id": "RDvzJIpwuVXy"
      },
      "outputs": [],
      "source": [
        "def generateText(starting_sent,k,maxLen=1000):\n",
        "\n",
        "    sentence = starting_sent\n",
        "    ctx = starting_sent[-k:]\n",
        "\n",
        "    for ix in range(maxLen):\n",
        "        next_prediction = sample_next(ctx,model,k)\n",
        "        sentence += next_prediction\n",
        "        ctx = sentence[-k:]\n",
        "    return sentence\n",
        "\n",
        "# T = generateTable(\"bingus bigchungus bugs\", k)\n",
        "# T = convertFreqIntoProb(T)\n",
        "\n",
        "# text_path = \"/content/drive/My Drive/drake_lyrics.txt\"\n",
        "# text = load_text(text_path)"
      ]
    },
    {
      "cell_type": "code",
      "execution_count": 198,
      "metadata": {},
      "outputs": [
        {
          "name": "stdout",
          "output_type": "stream",
          "text": [
            "Unnamed: 0          0\n",
            "names               0\n",
            "albums              0\n",
            "danceability        0\n",
            "energy              0\n",
            "key                 0\n",
            "loudness            0\n",
            "mode                0\n",
            "speechiness         0\n",
            "acousticness        0\n",
            "instrumentalness    0\n",
            "valence             0\n",
            "tempo               0\n",
            "types               0\n",
            "duration_ms         0\n",
            "time_signature      0\n",
            "Labels              0\n",
            "Lyrics              0\n",
            "dtype: int64\n"
          ]
        }
      ],
      "source": [
        "df = pd.read_csv(\"DeathGripsDatasetLyrics.csv\")\n",
        "print(df.isnull().sum())"
      ]
    },
    {
      "cell_type": "code",
      "execution_count": 199,
      "metadata": {},
      "outputs": [
        {
          "data": {
            "text/plain": [
              "' '"
            ]
          },
          "execution_count": 199,
          "metadata": {},
          "output_type": "execute_result"
        }
      ],
      "source": [
        "text = df.loc[0,'Lyrics']\n",
        "model = MarkovChain(text, k)\n",
        "sample_next(\"bananas\",model,k)\n",
        "\n",
        "# model = generateTable(text, k)\n",
        "\n",
        "# print(model)\n",
        "# df3 = pd.DataFrame(model)\n",
        "# df3.to_csv(\"wahwah.csv\")\n",
        "\n",
        "# print(\"Function Created Successfully!\")\n",
        "\n",
        "# text = generateText(text[100:125],k,maxLen=200000)\n",
        "# print(text)"
      ]
    },
    {
      "cell_type": "code",
      "execution_count": 200,
      "metadata": {},
      "outputs": [
        {
          "name": "stdout",
          "output_type": "stream",
          "text": [
            "['150', 'ContributorsTranslationsРусскийGet', 'Got', 'Lyrics[Chorus]', 'Get-get-get-get,', 'got-got-got-got', 'Blood', 'rush', 'to', 'my', 'head', 'lit', 'hot', 'lock', \"Poppin'\", 'off', 'the', \"fuckin'\", 'block', 'knot', \"Clockin'\", 'wrist', 'slit', 'watch', 'bent', 'thought', 'bot', '', '[Verse', '1]', 'Tailpipe', \"draggin',\", 'volume', \"blastin',\", \"bailin'\", 'out', 'my', 'brain', 'Red', 'light', 'flash,', 'dem', 'stop', 'I', 'smash', 'Abraxas,', 'hydroplane,', 'massive', 'Catch', 'this', 'flight', 'flow', \"rainin'\", 'madness', 'Mastered', 'mine', 'and', 'laced', 'The', 'ave', 'with', 'black', 'cat', 'fish', \"tailin'\", 'waves', 'of', 'stratus', 'Curb', 'right', 'to', 'far', 'left', 'lane', \"Don't\", 'wait', 'for', 'me,', 'if', 'I', 'care', \"'Bout\", 'anything,', 'anywhere', \"Losin'\", 'myself,', 'I', 'get', 'the', 'stares', 'What', \"I'm\", \"lookin'\", 'at,', \"wasn't\", 'there', \"Wasn't\", 'there,', \"wasn't\", 'there', \"Wasn't\", 'there,', \"wasn't\", 'there', \"Nothin'\", 'out', 'there,', \"can't\", 'stay', 'inside', 'Hit', 'the', 'bar,', 'sleep-deprived', 'Who', 'drove', 'the', 'car?', \"I'm\", 'still', 'alive', 'Up', 'in', 'smoke,', 'moon', 'was', 'low', \"How'd\", 'you', 'know,', \"didn't\", 'say', 'I', 'did', 'Whose', 'is', 'this?', 'You', 'know', 'what', 'this', 'is', 'But', 'do', 'you', 'know?', 'You', 'might', 'also', 'like[Chorus]', 'Get-get-get-get,', 'got-got-got-got', 'Blood', 'rush', 'to', 'my', 'head', 'lit', 'hot', 'lock', \"Poppin'\", 'off', 'the', \"fuckin'\", 'block', 'knot', \"Clockin'\", 'wrist', 'slit', 'watch', 'bent', 'thought', 'bot', 'Fly', 'inside', 'out', 'Rot', 'dem', 'big', 'shot', 'simp', 'slot', 'shit', 'but', 'a', 'one-hit', 'quick', 'stop', '', '[Verse', '2]', 'So', 'many', 'ways', 'to', 'skin', 'the', 'frame', 'Remember', 'when', 'first', 'got', 'strange', 'Now', 'I', 'just', 'think', 'it', 'life', 'obey', 'So', 'what', 'comes', 'next', 'right', 'away', 'Right', 'away,', 'right', 'away', 'Right', 'away,', 'right', 'away', 'Raise', 'the', 'cup,', 'tilt', 'it', 'dry', 'Come', 'black', 'cloud,', 'cover', 'the', 'sky', 'Tongue', 'through', 'pupil', 'of', 'your', 'eye', 'Sickness', 'moves', 'you', \"can't\", 'deny', \"Lickin'\", 'through', 'you,', 'mastermind', 'For', 'mercy,', 'man', 'cry', 'Yeah,', \"I'm\", \"knowin'\", 'and', 'you', 'know', 'why', 'Nail', 'through', 'mental', 'ever', 'dem', 'try', 'Pigeon', 'hole', 'me', 'get', 'crucified', \"Can't\", 'clone', 'this', 'edge', \"What's\", 'it', 'cost', 'to', 'lose', 'your', 'head', 'Wit', 'out', 'end', 'up', 'lost', 'Should', 'be', \"askin'\", \"where's\", 'the', 'safe', 'Born', 'with', 'a', 'ski', 'mask', 'on', 'my', 'face', '[Chorus]', 'Get-get-get-get,', 'got-got-got-got', 'Blood', 'rush', 'to', 'my', 'head', 'lit', 'hot', 'lock', \"Poppin'\", 'off', 'the', \"fuckin'\", 'block', 'knot', \"Clockin'\", 'wrist', 'slit', 'watch', 'bent', 'thought', 'bot', 'Uh,', 'yeah', '', '[Verse', '3]', 'Lycanthropic', 'manic', 'cycles', 'Fire', 'water,', \"burnin'\", 'bibles', 'Wake', 'up', \"ragin',\", 'call', 'a', 'taxi', 'Take', 'me', 'to', 'the', 'nearest', 'city', 'Cell', 'light', 'up,', 'yeah', 'get', 'at', 'me', 'Make', 'it', 'quick', 'though,', 'blood,', \"I'm\", 'busy', 'Get', 'busy,', 'get', 'busy,', 'get', 'busy,', 'get', 'busy', 'Drilled', 'a', 'hole', 'into', 'my', 'head', 'Pierced', 'the', 'bone', 'and', 'felt', 'the', 'breeze', 'Lift', 'my', 'thoughts', 'out', 'dem', 'sick', 'bed', 'Wit', 'a', 'pair', 'of', 'crow', 'skeleton', 'wings', 'Know', \"nothin'\", 'since', 'then', 'it', 'seems', 'Been', \"floatin'\", 'through', 'the', 'nexus', \"threadin'\", 'dreams', 'But', 'did', 'you', 'know?', 'Yo', '', '[Chorus]', 'Get-get-get-get,', 'got-got-got-got', 'Blood', 'rush', 'to', 'my', 'head', 'lit', 'hot', 'lock', \"Poppin'\", 'off', 'the', \"fuckin'\", 'block', 'knot', \"Clockin'\", 'wrist', 'slit', 'watch', 'bent', 'thought', 'bot', 'Get-get-get-get,', 'got-got-got-got', 'Blood', 'rush', 'to', 'my', 'head', 'lit', 'hot', 'lock', \"Poppin'\", 'off', 'the', \"fuckin'\", 'block', 'knot', \"Clockin'\", 'wrist', 'slit', 'watch', 'bent', 'thought', 'bot131Embed']\n",
            "Counter({'the': 16, 'to': 9, 'my': 9, 'head': 7, 'get': 6, 'Get-get-get-get,': 5, 'got-got-got-got': 5, 'Blood': 5, 'rush': 5, 'lit': 5, 'hot': 5, 'lock': 5, \"Poppin'\": 5, 'off': 5, \"fuckin'\": 5, 'block': 5, 'knot': 5, \"Clockin'\": 5, 'wrist': 5, 'slit': 5, 'watch': 5, 'bent': 5, 'thought': 5, 'out': 5, 'I': 5, 'you': 5, 'a': 5, 'it': 5, 'bot': 4, '': 4, 'dem': 4, 'right': 4, \"I'm\": 4, 'through': 4, '[Verse': 3, 'this': 3, 'and': 3, 'of': 3, \"wasn't\": 3, 'there': 3, 'there,': 3, 'away': 3, 'me': 3, 'busy,': 3, 'light': 2, 'stop': 2, 'with': 2, 'black': 2, \"Wasn't\": 2, \"can't\": 2, 'inside': 2, 'did': 2, 'is': 2, 'You': 2, 'know': 2, 'what': 2, 'But': 2, 'know?': 2, 'quick': 2, 'So': 2, 'Right': 2, 'away,': 2, 'your': 2, 'hole': 2, 'Wit': 2, 'up': 2, '[Chorus]': 2, 'yeah': 2, 'busy': 2, '150': 1, 'ContributorsTranslationsРусскийGet': 1, 'Got': 1, 'Lyrics[Chorus]': 1, '1]': 1, 'Tailpipe': 1, \"draggin',\": 1, 'volume': 1, \"blastin',\": 1, \"bailin'\": 1, 'brain': 1, 'Red': 1, 'flash,': 1, 'smash': 1, 'Abraxas,': 1, 'hydroplane,': 1, 'massive': 1, 'Catch': 1, 'flight': 1, 'flow': 1, \"rainin'\": 1, 'madness': 1, 'Mastered': 1, 'mine': 1, 'laced': 1, 'The': 1, 'ave': 1, 'cat': 1, 'fish': 1, \"tailin'\": 1, 'waves': 1, 'stratus': 1, 'Curb': 1, 'far': 1, 'left': 1, 'lane': 1, \"Don't\": 1, 'wait': 1, 'for': 1, 'me,': 1, 'if': 1, 'care': 1, \"'Bout\": 1, 'anything,': 1, 'anywhere': 1, \"Losin'\": 1, 'myself,': 1, 'stares': 1, 'What': 1, \"lookin'\": 1, 'at,': 1, \"Nothin'\": 1, 'stay': 1, 'Hit': 1, 'bar,': 1, 'sleep-deprived': 1, 'Who': 1, 'drove': 1, 'car?': 1, 'still': 1, 'alive': 1, 'Up': 1, 'in': 1, 'smoke,': 1, 'moon': 1, 'was': 1, 'low': 1, \"How'd\": 1, 'know,': 1, \"didn't\": 1, 'say': 1, 'Whose': 1, 'this?': 1, 'do': 1, 'might': 1, 'also': 1, 'like[Chorus]': 1, 'Fly': 1, 'Rot': 1, 'big': 1, 'shot': 1, 'simp': 1, 'slot': 1, 'shit': 1, 'but': 1, 'one-hit': 1, '2]': 1, 'many': 1, 'ways': 1, 'skin': 1, 'frame': 1, 'Remember': 1, 'when': 1, 'first': 1, 'got': 1, 'strange': 1, 'Now': 1, 'just': 1, 'think': 1, 'life': 1, 'obey': 1, 'comes': 1, 'next': 1, 'Raise': 1, 'cup,': 1, 'tilt': 1, 'dry': 1, 'Come': 1, 'cloud,': 1, 'cover': 1, 'sky': 1, 'Tongue': 1, 'pupil': 1, 'eye': 1, 'Sickness': 1, 'moves': 1, 'deny': 1, \"Lickin'\": 1, 'you,': 1, 'mastermind': 1, 'For': 1, 'mercy,': 1, 'man': 1, 'cry': 1, 'Yeah,': 1, \"knowin'\": 1, 'why': 1, 'Nail': 1, 'mental': 1, 'ever': 1, 'try': 1, 'Pigeon': 1, 'crucified': 1, \"Can't\": 1, 'clone': 1, 'edge': 1, \"What's\": 1, 'cost': 1, 'lose': 1, 'end': 1, 'lost': 1, 'Should': 1, 'be': 1, \"askin'\": 1, \"where's\": 1, 'safe': 1, 'Born': 1, 'ski': 1, 'mask': 1, 'on': 1, 'face': 1, 'Uh,': 1, '3]': 1, 'Lycanthropic': 1, 'manic': 1, 'cycles': 1, 'Fire': 1, 'water,': 1, \"burnin'\": 1, 'bibles': 1, 'Wake': 1, \"ragin',\": 1, 'call': 1, 'taxi': 1, 'Take': 1, 'nearest': 1, 'city': 1, 'Cell': 1, 'up,': 1, 'at': 1, 'Make': 1, 'though,': 1, 'blood,': 1, 'Get': 1, 'Drilled': 1, 'into': 1, 'Pierced': 1, 'bone': 1, 'felt': 1, 'breeze': 1, 'Lift': 1, 'thoughts': 1, 'sick': 1, 'bed': 1, 'pair': 1, 'crow': 1, 'skeleton': 1, 'wings': 1, 'Know': 1, \"nothin'\": 1, 'since': 1, 'then': 1, 'seems': 1, 'Been': 1, \"floatin'\": 1, 'nexus': 1, \"threadin'\": 1, 'dreams': 1, 'Yo': 1, 'bot131Embed': 1})\n"
          ]
        }
      ],
      "source": [
        "h = re.split(' |\\n',text)\n",
        "for i in h:\n",
        "    i = re.sub(r\"[^\\w\\s]+\", '', i)\n",
        "print(h)\n",
        "a = Counter(h)\n",
        "print(a)\n",
        "df2 = pd.DataFrame.from_dict(a, orient='index')\n",
        "df2.to_csv(\"hmmm.csv\")"
      ]
    },
    {
      "cell_type": "code",
      "execution_count": 201,
      "metadata": {},
      "outputs": [],
      "source": [
        "def generateTable(data,k):\n",
        "    T = {}\n",
        "    # for i in range(len(data)-k):\n",
        "    #     X = data[i:i+k]\n",
        "    #     Y = data[i+k]\n",
        "    #     #print(\"X  %s and Y %s  \"%(X,Y))\n",
        "\n",
        "    #     #print(\"First\", T.get(X))\n",
        "    #     if T.get(X) is None:\n",
        "    #         T[X] = {}\n",
        "    #         T[X][Y] = 1\n",
        "    #     else:\n",
        "    #         #print(\"Second\", T[X].get(Y))\n",
        "    #         if T[X].get(Y) is None:\n",
        "    #             T[X][Y] = 1\n",
        "    #         else:\n",
        "    #             T[X][Y] += 1\n",
        "    \n",
        "    return T"
      ]
    },
    {
      "cell_type": "code",
      "execution_count": 202,
      "metadata": {},
      "outputs": [
        {
          "name": "stdout",
          "output_type": "stream",
          "text": [
            "{'got': 2, 'light': 2, 'stop': 2, 'with': 2, 'black': 2, 'for': 2, 'at': 2, 'nothin': 2, 'inside': 2, 'did': 2, 'is': 2, 'quick': 2, 'so': 2, 'your': 2, 'hole': 2, 'wit': 2, 'chorus': 2, 'verse': 3, 'and': 3, 'of': 3, 'what': 3, 'cant': 3, 'but': 3, 'yeah': 3, 'bot': 4, '': 4, 'dem': 4, 'this': 4, 'me': 4, 'im': 4, 'up': 4, 'through': 4, 'getgetgetget': 5, 'gotgotgotgot': 5, 'rush': 5, 'lit': 5, 'hot': 5, 'lock': 5, 'poppin': 5, 'off': 5, 'fuckin': 5, 'block': 5, 'knot': 5, 'clockin': 5, 'wrist': 5, 'slit': 5, 'watch': 5, 'bent': 5, 'thought': 5, 'out': 5, 'i': 5, 'wasnt': 5, 'a': 5, 'it': 5, 'away': 5, 'busy': 5, 'blood': 6, 'right': 6, 'there': 6, 'know': 6, 'head': 7, 'get': 7, 'you': 8, 'to': 9, 'my': 9, 'the': 17}\n",
            "{'aye': 2, 'came': 2, 'slow': 2, 'ko': 2, 'way': 2, 'fuck': 2, 'what': 2, 'chorus': 2, 'verse': 2, 'through': 2, 'argh': 2, 'me': 2, 'whos': 2, 'know': 3, 'there': 3, 'sayin': 3, 'to': 3, 'you': 4, 'no': 4, 'im': 4, '': 4, 'that': 5, 'shit': 5, 'pull': 5, 'ayy': 6, 'sidin': 6, 'wastin': 6, 'life': 6, 'altered': 6, 'states': 6, 'back': 6, 'up': 6, 'diamonds': 7, 'scrapin': 7, 'them': 8, 'here': 9, 'we': 9, 'fever': 10, 'go': 10, 'it': 10, 'in': 10, 'my': 11, 'got': 16, 'i': 17, 'the': 23}\n",
            "{'out': 2, 'go': 2, 'far': 2, 'chorus': 2, 'might': 2, 'have': 2, 'know': 2, 'bullets': 2, 'fire': 2, 'em': 2, 'comin': 2, 'like': 2, 'oh': 2, 'this': 2, 'shit': 2, 'whos': 2, 'you': 2, 'verse': 3, 'and': 3, 'your': 3, 'dont': 3, 'up': 3, 'been': 3, 'in': 4, 'fuck': 4, 'im': 4, 'ride': 4, 'through': 4, 'sky': 4, 'mist': 4, '': 5, 'black': 5, 'no': 5, 'of': 6, 'on': 6, 'get': 6, 'how': 6, 'its': 7, 'such': 7, 'long': 7, 'down': 7, 'way': 8, 'to': 10, 'a': 11, 'the': 13, 'boy': 22, 'boys': 38, 'yeah': 50, 'lost': 60}\n",
            "{'verse': 2, 'ride': 2, 'came': 2, 'get': 2, 'be': 2, 'refrain': 2, 'me': 2, 'trip': 2, 'got': 2, 'bill': 2, 'shots': 2, 'grill': 2, 'or': 2, 'flat': 2, 'and': 2, 'it': 2, 'its': 2, 'high': 2, 'by': 2, 'bridge': 2, 'is': 2, 'chorus': 2, 'forget': 2, 'this': 2, 'tongue': 2, 'push': 2, 'bankroll': 2, 'off': 2, 'lips': 2, 'who': 2, 'are': 2, 'legit': 2, 'what': 2, 'think': 2, 'tap': 2, 'never': 3, 'shit': 3, 'oh': 3, 'hit': 3, 'twenty': 3, 'one': 3, 'down': 3, 'hell': 3, 'know': 3, 'whats': 3, 'straight': 3, 'how': 4, 'up': 4, 'your': 4, 'man': 4, 'no': 4, 'fuck': 5, 'dont': 6, '': 7, 'fold': 7, 'yeah': 7, 'i': 8, 'blackjack': 9, 'do': 9, 'thing': 9, 'but': 9, 'watch': 9, 'always': 10, 'keep': 11, 'my': 11, 'cant': 11, 'you': 11, 'to': 13, 'a': 13, 'that': 14, 'the': 17, 'black': 19}\n",
            "{'heard': 2, 'fore': 2, 'dont': 2, 'me': 2, 'prechorus': 2, 'up': 2, 'bitch': 2, 'death': 2, 'get': 2, 'gripped': 2, 'steeze': 2, 'ballin': 2, 'control': 2, 'bout': 2, 'bubblin': 2, 'chorus': 2, 'verse': 2, 'sound': 2, 'bomb': 2, 'line': 2, 'on': 2, 'make': 2, 'only': 2, 'hit': 2, 'cant': 2, 'beyond': 2, 'them': 2, 'blood': 2, 'real': 3, 'is': 3, 'know': 3, 'with': 3, 'one': 3, 'and': 3, 'way': 3, 'fuck': 4, 'shit': 4, 'of': 4, 'never': 4, 'no': 4, 'criminal': 4, 'intent': 4, 'antilegal': 4, 'ill': 4, 'thief': 4, 'in': 4, 'night': 4, 'peel': 4, 'life': 4, 'spin': 4, 'wheel': 4, 'your': 6, '': 6, 'back': 7, 'a': 8, 'you': 8, 'run': 8, 'that': 8, 'to': 9, 'it': 10, 'mouth': 15, 'what': 16, 'hustle': 21, 'bones': 22, 'the': 24, 'comin': 27, 'my': 29, 'out': 32}\n",
            "{'n': 2, 'cant': 2, 'aint': 2, 'juke': 2, 'step': 2, 'floor': 2, 'of': 2, 'a': 2, 'one': 2, 'over': 2, 'to': 2, 'see': 2, 'nowhere': 2, 'dont': 2, 'chorus': 2, 'rewind': 2, 'cold': 2, 'hit': 2, 'and': 2, 'man': 2, '': 3, 'verse': 3, 'streets': 3, 'me': 3, 'goin': 3, 'its': 3, 'on': 3, 'you': 3, 'with': 3, 'get': 4, 'bout': 4, 'waist': 4, 'swallowed': 4, 'niche': 4, 'whats': 4, 'who': 4, 'like': 4, 'so': 4, 'deep': 5, 'by': 5, 'in': 5, 'the': 5, 'my': 5, 'it': 5, 'up': 6, 'beats': 8, 'that': 9, 'shit': 21, 'crazy': 21, 'footage': 28, 'stay': 35, 'i': 36, 'ive': 37, 'noided': 38, 'seen': 40}\n",
            "{'from': 2, 'head': 2, 'fuckin': 2, 'g': 2, 'me': 2, 'run': 2, 'reel': 2, 'make': 2, 'bloody': 2, 'aint': 2, 'gone': 2, 'there': 2, 'be': 2, 'off': 2, 'can': 2, 'no': 2, 'was': 2, 'tell': 2, 'do': 2, 'one': 2, 'chorus': 2, 'never': 2, 'thought': 2, 'verse': 3, 'on': 3, 'back': 3, 'of': 3, 'what': 3, 'oh': 3, 'dont': 3, 'blood': 3, 'feel': 3, 'see': 3, 'im': 3, 'with': 3, 'like': 3, '': 4, 'that': 4, 'up': 4, 'helix': 5, 'how': 5, 'cant': 5, 'in': 5, 'a': 6, 'freak': 7, 'and': 7, 'to': 8, 'i': 14, 'the': 14, 'wanna': 17, 'it': 17, 'really': 18, 'so': 19, 'know': 20, 'you': 29, 'double': 40}\n",
            "{'me': 2, 'blood': 2, 'head': 2, 'refrain': 2, 'chorus': 2, 'out': 2, 'were': 2, 'like': 2, 'that': 2, 'sound': 2, 'sick': 2, 'skin': 2, 'on': 2, 'with': 2, 'cant': 2, 'we': 3, 'came': 3, 'sayin': 3, 'kill': 3, 'or': 3, 'die': 3, 'braggin': 3, 'about': 3, 'had': 3, 'dialed': 3, 'well': 3, 'whats': 3, 'up': 3, 'now': 3, 'when': 3, 'verse': 3, 'for': 3, 'its': 3, 'death': 3, 'of': 3, 'a': 3, 'yeah': 4, 'know': 4, 'shit': 4, 'no': 4, 'my': 4, 'what': 5, 'how': 5, 'all': 5, 'is': 5, 'and': 5, 'it': 7, '': 7, 'you': 8, 'over': 8, 'to': 9, 'im': 10, 'your': 11, 'the': 11, 'blow': 13, 'blower': 17, 'system': 27}\n",
            "{'cage': 2, 'verse': 2, 'know': 2, 'be': 2, 'so': 2, 'come': 2, 'fast': 2, 'wont': 2, 'with': 2, 'bullshit': 2, 'what': 2, 'keep': 2, 'tell': 2, 'but': 2, 'im': 2, 'man': 2, 'why': 2, 'we': 2, 'right': 2, 'thing': 2, 'chorus': 3, 'a': 3, 'of': 3, 'my': 3, 'down': 3, 'fuck': 4, 'dont': 4, 'argh': 5, 'out': 5, 'though': 5, '': 6, 'me': 6, 'that': 6, 'had': 6, 'this': 7, 'cause': 7, 'ya': 9, 'the': 11, 'to': 14, 'hate': 15, 'kill': 16, 'like': 16, 'take': 16, 'cant': 18, 'say': 20, 'you': 24, 'i': 33, 'em': 40, 'it': 51, 'get': 59}\n",
            "{'shit': 2, 'off': 2, 'again': 2, 'fire': 2, 'me': 2, 'into': 2, 'no': 2, 'beat': 2, 'la': 2, 'on': 2, 'that': 2, 'cause': 2, 'down': 2, 'scale': 2, 'richter': 2, 'sound': 2, 'em': 2, 'how': 2, 'verse': 3, 'make': 3, 'it': 3, 'through': 3, 'wild': 3, 'your': 3, 'my': 3, 'im': 3, 'like': 3, 'break': 3, 'til': 3, 'war': 3, '': 4, 'this': 4, 'and': 4, 'too': 4, 'of': 4, 'high': 5, 'in': 5, 'to': 7, 'الڭناوي': 8, 'بان': 8, 'علامو': 8, 'الذبيحة': 8, 'في': 8, 'باب': 8, 'مقامو': 8, 'يا': 8, 'سيادي': 8, 'تفاجي': 8, 'الهوال': 8, 'flesh': 8, 'the': 11, 'yo': 12, 'out': 14, '258': 14, 'punk': 16, 'weight': 18}\n",
            "{'verse': 2, 'cut': 2, 'from': 2, 'through': 2, 'of': 2, 'can': 2, 'til': 2, 'i': 2, 'get': 2, 'wit': 2, 'back': 2, 'crack': 2, 'where': 2, 'mine': 2, 'as': 2, 'my': 2, 'this': 2, 'all': 2, 'a': 2, 'black': 2, 'on': 2, 'like': 2, 'one': 3, 'dem': 3, 'it': 3, 'check': 3, 'you': 3, 'at': 3, 'bitch': 3, 'head': 3, 'ta': 3, '': 4, 'off': 4, 'naw': 4, 'your': 4, 'fuck': 7, 'the': 8, 'that': 9, 'pump': 14}\n",
            "{'verse': 2, 'low': 2, 'can': 2, 'dirty': 2, 'through': 2, 'that': 2, 'out': 2, 'da': 2, 'ill': 2, 'say': 2, 'on': 2, 'gun': 2, 'blood': 2, 'code': 2, 'your': 2, 'off': 2, 'cause': 2, 'chorus': 3, 'like': 3, 'whip': 3, 'fuck': 3, 'down': 3, 'in': 3, 'a': 3, 'of': 3, 'this': 4, 'how': 4, 'kill': 4, 'to': 4, 'fucker': 5, 'i': 5, 'who': 6, 'wanna': 6, 'catch': 6, 'bitch': 6, '': 7, 'real': 7, 'for': 7, 'people': 7, 'just': 7, 'dont': 7, 'must': 8, 'smokin': 8, 'rocks': 8, 'please': 9, 'be': 9, 'shit': 10, 'the': 10, 'my': 11, 'you': 12, 'and': 13, 'it': 26}\n",
            "{'bitch': 2, 'with': 2, 'dont': 2, 'me': 2, 'fucking': 2, 'through': 2, 'this': 2, 'by': 2, 'or': 2, 'at': 2, 'way': 2, 'might': 2, '2': 2, 'most': 2, 'my': 2, 'chorus': 2, 'now': 2, '3': 2, 'will': 2, 'verse': 3, '1': 3, 'be': 3, 'got': 3, 'it': 3, 'for': 4, 'bridge': 4, 'on': 5, 'teachin': 5, 'bitches': 5, 'how': 5, 'and': 6, 'swim': 6, '': 7, 'a': 7, 'of': 7, 'to': 9, 'when': 10, 'numbers': 11, 'come': 12, 'out': 12, 'know': 12, 'first': 12, 'is': 13, 'three': 13, 'i': 13, 'shit': 15, 'gone': 15, 'you': 18, 'area': 24, 'the': 34, 'im': 40, 'in': 41, 'your': 42}\n",
            "{'stone': 2, 'wall': 2, 'dog': 2, 'gaze': 2, 'ducttaped': 2, 'ceiling': 2, 'stucco': 2, 'cave': 2, 'make': 2, 'illi': 2, 'an': 2, 'eighthigh': 2, 'abandoned': 2, 'building': 2, 'no': 2, 'daylight': 2, 'midnight': 2, 'lamp': 2, 'lit': 2, 'twentyfour': 2, 'seven': 2, 'murdered': 2, 'windows': 2, 'two': 2, 'exits': 2, 'street': 2, 'nosedive': 2, 'next': 2, 'seconds': 2, 'suicide': 2, 'stallion': 2, 'so': 2, 'surrounded': 2, 'geiger': 2, 'count': 2, 'goin': 2, 'shits': 2, 'bout': 2, 'kamikaze': 2, 'nazi': 2, 'verse': 2, 'world': 2, 'know': 2, 'off': 2, 'down': 2, 'anything': 2, 'say': 2, 'you': 2, 'dont': 2, 'tell': 2, 'cant': 2, 'your': 2, 'head': 2, 'think': 2, 'myself': 2, 'all': 2, 'by': 2, 'of': 2, 'theyre': 2, 'its': 3, 'on': 3, 'feel': 3, 'one': 3, 'life': 3, 'aint': 3, 'not': 3, '': 3, 'okay': 4, 'a': 4, 'or': 5, 'it': 5, 'come': 5, 'out': 6, 'i': 6, 'up': 7, 'get': 8, 'im': 8, 'fuck': 8, 'in': 9, 'to': 11, 'and': 12, 'me': 13, 'the': 13, 'my': 15}\n",
            "{'up': 2, 'got': 2, 'i': 2, 'see': 2, 'chorus': 2, 'ay': 2, 'choo': 2, 'on': 2, 'not': 3, 'your': 3, 'refrain': 3, 'like': 3, 'verse': 4, 'fear': 4, 'over': 4, 'pride': 4, 'flood': 4, 'cant': 4, 'hide': 4, 'face': 4, 'woman': 4, 'tears': 4, 'child': 4, 'in': 4, 'me': 4, 'that': 5, 'aint': 7, 'know': 8, 'im': 9, 'takin': 9, '': 9, 'a': 10, 'my': 11, 'of': 13, 'we': 14, 'you': 15, 'burn': 18, 'turns': 18, 'to': 19, 'boy': 20, 'through': 20, 'lil': 20, 'it': 35}\n",
            "{'up': 2, 'hook': 2, 'verse': 2, 'will': 2, 'with': 2, 'for': 2, 'many': 2, 'hoes': 2, 'if': 2, 'motherfucker': 2, 'feels': 2, 'them': 2, 'bitch': 2, 'course': 2, 'but': 2, 'now': 2, 'be': 2, 'me': 2, 'shake': 2, 'what': 2, 'done': 2, 'at': 2, 'clap': 2, 'love': 3, 'how': 3, 'cant': 3, 'this': 3, 'your': 3, 'too': 3, 'never': 4, 'do': 4, 'way': 4, 'again': 4, 'on': 5, '': 5, 'fuck': 5, 'and': 6, 'it': 6, 'beatdown': 7, 'madness': 7, 'chaos': 7, 'let': 7, 'business': 7, 'questioning': 7, 'brain': 8, 'make': 8, 'through': 8, 'mane': 8, 'thang': 8, 'got': 9, 'in': 10, 'learn': 10, 'proper': 10, 'meaning': 10, 'i': 11, 'fit': 11, 'of': 13, 'youre': 13, 'no': 13, 'blood': 14, 'flow': 14, 'to': 15, 'my': 21, 'the': 23, 'a': 24, 'you': 28}\n",
            "{'hand': 2, 'them': 2, 'bitch': 2, 'i': 2, 'this': 2, 'shit': 2, 'come': 2, 'again': 2, 'out': 2, 'cheek': 2, 'tongue': 2, 'em': 2, 'refrain': 2, 'boom': 2, 'on': 2, 'rimmin': 2, 'ass': 2, 'for': 2, 'yeah': 2, 'that': 2, 'man': 2, 'nothin': 2, 'of': 3, 'doubt': 3, 'not': 3, 'when': 3, 'dont': 3, 'cant': 3, 'fuck': 3, 'verse': 4, 'the': 4, 'one': 4, 'no': 4, '': 5, 'your': 5, 'like': 5, 'a': 5, 'im': 5, 'now': 6, 'way': 6, 'you': 7, 'feel': 9, 'my': 10, 'in': 10, 'me': 11}\n",
            "{'hook': 2, 'refrain': 2, 'you': 2, 'but': 2, 'with': 2, 'out': 2, 'your': 2, 'falling': 2, 'suic': 2, 'not': 2, 'dead': 2, 'sick': 2, 'em': 2, 'one': 2, 'this': 2, 'i': 2, 'verse': 3, 'in': 3, 'ruthless': 4, 'and': 4, 'free': 4, 'no': 4, '': 8, 'to': 8, 'the': 8, 'im': 8, 'me': 10, 'dogs': 11, 'world': 11, 'of': 15, 'suicide': 41, 'its': 43, 'all': 43}\n",
            "{'doors': 2, 'verse': 2, 'my': 2, 'why': 2, 'things': 2, 'him': 2, 'feel': 2, 'and': 2, 'no': 2, 'take': 2, 'your': 3, '': 3, 'back': 3, 'cant': 3, 'in': 4, 'one': 5, 'got': 12, 'some': 12, 'shit': 12, 'say': 12, 'just': 12, 'i': 13, 'for': 13, 'fuck': 13, 'it': 13, 'even': 13, 'ask': 13, 'dont': 14, 'of': 15, 'to': 16, 'the': 20, 'me': 23, 'thangs': 24, 'them': 34}\n",
            "{'want': 2, 'is': 2, 'that': 2, 'for': 2, 'down': 2, 'go': 2, 'wah': 2, 'to': 2, 'even': 2, 'thats': 2, 'a': 2, 'cant': 2, 'who': 2, 'me': 2, 'all': 2, 'this': 2, 'real': 2, 'man': 2, 'in': 2, 'hand': 2, 'get': 3, 'off': 3, 'rid': 3, 'nail': 3, 'coffin': 3, 'lid': 3, 'verse': 3, 'dont': 3, 'chorus': 3, 'youre': 3, 'of': 4, 'on': 4, 'your': 4, 'my': 4, 'it': 4, 'and': 6, 'em': 6, '': 6, 'the': 7, 'you': 7, 'i': 8, 'wwwwwwwhammy': 17}\n",
            "{'verse': 2, 'as': 2, 'off': 2, 'kill': 2, 'can': 2, 'by': 2, 'a': 2, 'killed': 2, 'zero': 2, 'stop': 2, 'stealing': 2, 'zeros': 2, 'killing': 2, 'all': 2, 'cant': 3, 'and': 3, 'somebody': 3, '': 4, 'of': 4, 'your': 4, 'got': 4, 'moods': 5, 'live': 5, 'on': 5, 'same': 5, 'harder': 5, 'swang': 5, 'into': 5, 'tomorrow': 5, 'feeling': 5, 'swing': 6, 'the': 6, 'in': 6, 'i': 7, 'you': 7, 'that': 8, 'my': 13, 'push': 16, 'me': 20}\n",
            "{'what': 2, 'verse': 2, 'of': 2, 'their': 2, 'off': 2, 'hate': 2, 'call': 2, 'crazy': 2, 'but': 2, 'swear': 2, 'lines': 2, 'been': 2, 'tapped': 2, 'omega': 2, 'megalomaniac': 2, 'coat': 2, 'hanger': 2, 'mans': 2, 'vagina': 2, 'manic': 2, 'downstroke': 2, 'on': 2, 'fire': 2, 'all': 2, 'black': 2, 'cant': 2, 'fade': 2, 'came': 2, 'brang': 2, 'fuck': 2, 'bourgeois': 2, 'odb': 2, 'raw': 2, 'pearl': 2, 'white': 2, 'teeth': 2, 'yellowman': 2, 'jaw': 2, 'know': 2, 'should': 2, 'to': 3, 'im': 3, '': 3, 'me': 3, 'back': 3, 'glass': 4, 'house': 4, 'prepared': 4, 'for': 4, 'surprise': 4, 'attack': 4, 'realized': 4, 'held': 4, 'blade': 4, 'inside': 4, 'your': 4, 'beat': 4, 'bitch': 4, 'the': 6, 'you': 6, 'in': 6, 'it': 8, 'i': 11, 'my': 14}\n",
            "{'cant': 2, 'hype': 2, 'man': 2, 'is': 2, 'but': 2, 'this': 2, 'dont': 2, 'aint': 2, 'heard': 2, 'them': 2, 'off': 2, 'me': 2, 'chorus': 2, 'keep': 2, 'do': 2, 'locked': 2, 'kept': 2, 'move': 2, 'of': 2, 'there': 2, 'it': 2, 'verse': 3, 'my': 3, 'your': 3, 'not': 3, 'in': 3, 'all': 3, 'yo': 3, '': 4, 'you': 4, 'no': 4, 'out': 4, 'like': 5, 'the': 5, 'i': 6, 'blue': 11, 'loud': 12, 'lit': 12, 'allan': 12, 'bout': 12, 'loose': 12, 'that': 12, 'bouncin': 13, 'and': 14, 'shit': 14, 'to': 16, 'whoop': 24, 'poe': 24, 'im': 32}\n",
            "{'is': 2, 'shit': 2, 'under': 2, 'slack': 2, 'chorus': 2, 'to': 2, 'that': 2, 'my': 3, 'im': 3, 'of': 3, 'the': 3, 'no': 3, 'youre': 3, '': 4, 'like': 5, 'you': 5, 'me': 5, 'your': 6, 'i': 6, 'pop': 56}\n",
            "{'verse': 2, 'at': 2, 'it': 2, 'all': 2, 'take': 2, 'this': 2, 'and': 2, 'refrain': 2, 'from': 2, 'my': 3, 'its': 3, 'a': 3, 'rep': 3, 'gutter': 3, 'fly': 3, 'chorus': 4, 'cant': 4, 'that': 4, 'in': 6, 'your': 6, 'i': 6, '': 7, 'two': 7, 'thumbs': 7, 'disappear': 7, 'eye': 7, 'among': 7, 'sky': 8, 'nobody': 8, 'bury': 8, 'three': 8, 'run': 8, 'bass': 8, 'rattle': 9, 'stars': 9, 'out': 9, 'aint': 9, 'get': 11, 'you': 11, 'everybody': 12, 'anybody': 12, 'me': 12, 'off': 13, 'the': 16}\n",
            "{'refrain': 2, 'verse': 2, 'an': 2, 'from': 2, 'cant': 2, 'own': 2, 'risk': 2, 'dont': 2, 'touch': 2, 'bitch': 2, 'to': 2, 'bridge': 2, 'no': 2, 'valley': 2, 'feel': 2, 'shut': 2, 'down': 2, 'chorus': 2, 'im': 4, 'it': 4, 'at': 4, 'this': 4, 'like': 5, 'there': 6, 'was': 6, 'i': 6, 'god': 7, '': 7, 'my': 7, 'east': 8, 'shine': 8, 'hair': 8, 'her': 8, 'neck': 8, 'breathe': 8, 'she': 8, 'shoot': 8, 'pussy': 8, 'chest': 8, 'die': 8, 'a': 8, 'all': 8, 'of': 8, 'west': 9, 'artificial': 9, 'pyramids': 9, 'deck': 9, 'wet': 9, 'through': 9, 'death': 10, 'your': 10, 'them': 13, 'the': 14, 'in': 17, 'on': 19, 'runnin': 22, 'now': 22, 'where': 23, 'watching': 26, 'watch': 26, 'you': 31, 'me': 47}\n",
            "{'might': 2, 'he': 2, 'loves': 2, 'for': 2, '1': 2, 'get': 2, 'so': 2, 'fuckin': 2, 'dark': 2, 'kettle': 2, 'drum': 2, 'roll': 2, 'hard': 2, 'said': 2, 'fucker': 2, 'start': 2, 'hook': 2, 'verse': 2, 'mouth': 2, 'my': 2, '2': 2, 'dont': 3, 'im': 3, 'not': 3, 'process': 4, 'shit': 4, 'your': 5, 'die': 5, 'the': 5, '': 5, 'comecome': 8, 'apart': 8, 'here': 10, 'fuck': 10, 'you': 12, 'i': 12, 'in': 16}\n",
            "{'bridge': 2, '1': 2, 'do': 2, 'fuckin': 2, 'it': 2, 'up': 2, 'verse': 2, 'cant': 2, 'myself': 2, 'wanna': 2, 'frame': 2, 'by': 2, 'of': 2, 'to': 2, 'all': 2, '2': 2, 'chorus': 3, 'you': 3, 'me': 3, 'under': 3, '': 6, 'my': 6, 'real': 7, 'called': 8, 'this': 8, 'dude': 8, 'a': 9, 'i': 11, 'v': 12, 'yellow': 12, 'pill': 12, 'deal': 12, 'steal': 12, 'bitch': 12, 'the': 13, 'kill': 13, 'is': 14, 'yeah': 18, 'im': 20, 'shit': 25, 'that': 27, 'on': 30, 'fuck': 33}\n",
            "{'heavens': 2, 'we': 2, 'hella': 2, 'zeros': 2, 'all': 2, 'is': 2, '': 2, 'hook': 2, 'five': 2, 'rings': 2, 'one': 2, 'fuck': 3, 'pressin': 8, 'down': 8, 'pillow': 8, 'til': 8, 'cant': 8, 'hear': 8, 'breathin': 8, 'for': 8, 'reason': 8, 'the': 9, 'no': 9, 'you': 10, 'im': 12, 'way': 12, 'out': 12, 'i': 12, 'on': 15, 'my': 18}\n",
            "{'refrain': 2, 'you': 2, '': 3, 'dont': 5, 'get': 5, 'me': 5, 'wrong': 5, 'tttttthis': 12, 'violence': 13, 'now': 13, 'is': 29, 'this': 29}\n",
            "{'verse': 2, 'ive': 2, 'bluebird': 2, 'not': 2, 'attitude': 2, 'at': 2, 'all': 2, 'black': 2, 'hat': 2, 'refrain': 2, 'right': 2, 'between': 2, 'legs': 2, 'your': 2, 'might': 3, 'my': 3, 'its': 3, 'now': 3, 'five': 3, 'six': 3, 'life': 3, 'is': 3, 'war': 3, 'fake': 3, 'a': 4, 'it': 4, 'this': 4, 'you': 5, '': 5, 'times': 5, 'bird': 5, 'fuck': 6, 'one': 6, 'four': 6, 'higher': 6, 'three': 7, 'two': 10, 'birds': 17, 'coming': 20, 'tomorrow': 21, 'in': 32, 'i': 60, 'got': 71}\n",
            "{'chorus': 2, 'refrain': 3, '': 5, 'feels': 12, 'like': 13, 'a': 13, 'wheel': 13, 'life': 35, 'let': 36, 'me': 36, 'live': 36, 'my': 36}\n",
            "{'verse': 3, 'whered': 3, 'he': 3, 'federal': 3, 'cloaked': 3, 'key': 3, 'and': 3, 'lock': 3, 'ill': 3, 'refrain': 3, 'hot': 5, '': 6, 'am': 6, 'undertow': 6, 'shots': 6, 'shit': 8, 'buddhists': 9, 'overflow': 10, 'licked': 24, 'dope': 30, 'i': 51, 'go': 96}\n",
            "{'house': 2, 'to': 2, 'big': 2, 'cut': 2, 'off': 2, 'see': 2, 'out': 2, 'here': 2, 'chorus': 2, 'in': 2, '': 3, 'i': 4, 'cant': 4, 'no': 4, 'skin': 24, 'creepin': 25, 'under': 25, 'my': 27, 'la': 40}\n",
            "{'government': 2, 'im': 2, 'a': 2, 'corporation': 2, 'plates': 3, '': 4, 'location': 4, 'you': 5, 'fuck': 6, 'feet': 8, 'shit': 8, 'is': 8, 'ooooverlord': 8, 'your': 16, 'on': 18, 'conform': 26, 'we': 28, 'love': 28, 'to': 28}\n",
            "{'': 2, 'chorus': 2, 'your': 8, 'help': 8, 'you': 18, 'dont': 25, 'need': 25, 'no': 48, 'i': 48}\n",
            "{'verse': 2, 'head': 2, 'furnace': 2, 'proof': 2, 'of': 2, 'purchase': 2, 'ghost': 2, 'machine': 2, 'laced': 2, 'when': 2, 'spit': 2, 'on': 2, 'your': 2, 'face': 2, 'take': 2, 'what': 2, 'can': 2, 'get': 2, 'not': 2, 'once': 2, 'give': 2, 'play': 2, 'forget': 2, 'off': 2, 'cant': 2, 'remember': 2, 'to': 3, 'chorus': 3, 'youll': 3, 'it': 3, 'you': 4, 'in': 5, '': 6, 'lay': 6, 'cream': 6, 'want': 10, 'whatever': 10, 'blood': 16, 'i': 18, 'my': 21, 'whos': 37, 'watching': 37, 'fuck': 39}\n",
            "{'and': 2, 'kept': 2, 'got': 2, 'queens': 2, 'your': 2, 'wanna': 2, 'fuck': 2, 'shaman': 2, 'cant': 2, 'miss': 2, 'be': 2, 'ever': 2, 'even': 2, 'want': 2, 'didnt': 2, 'so': 2, 'necessary': 2, 'obituary': 2, 'highway': 2, 'aint': 2, 'jeans': 2, 'have': 2, 'who': 2, 'oh': 2, 'yeah': 2, 'nothing': 2, 'on': 3, 'never': 3, 'only': 3, 'feel': 3, 'for': 3, '2': 3, 'but': 3, 'do': 3, 'tell': 3, 'how': 3, 'at': 3, 'broadway': 3, 'cemetery': 3, 'tsk': 3, 'refrain': 4, 'verse': 4, 'take': 4, 'life': 4, 'can': 4, 'in': 4, 'a': 4, 'also': 4, 'knew': 4, 'keep': 4, 'to': 4, 'blank': 4, 'the': 5, 'if': 5, 'when': 5, 'me': 6, '': 7, 'im': 7, 'fetish': 9, 'was': 10, 'dont': 11, 'know': 11, 'ill': 12, 'you': 13, 'snatch': 13, 'like': 14, 'it': 16, 'ive': 16, 'always': 16, 'known': 16, 'i': 34, 'sleeves': 85, 'up': 89, 'my': 116}\n",
            "{'verse': 2, 'cross': 2, 'like': 2, 'she': 2, 'prechorus': 2, 'chorus': 2, 'refrain': 2, 'movement': 2, 'sucky': 2, 'so': 2, 'splashing': 2, 'no': 2, 'awhoo': 2, 'lix': 2, 'shes': 2, 'youre': 2, 'experiment': 2, 'raw': 3, 'dripping': 3, 'man': 3, 'flick': 3, 'wrist': 3, 'your': 3, 'her': 3, 'bony': 4, 'amnesia': 4, 'of': 4, 'mean': 5, 'dont': 5, 'see': 5, 'need': 5, 'cant': 5, 'stand': 5, 'by': 5, 'palm': 5, 'in': 5, 'hands': 6, 'shit': 6, 'all': 7, '': 7, 'aww': 7, 'oi': 9, 'these': 10, 'my': 10, 'ouh': 10, 'really': 12, 'now': 12, 'not': 13, 'i': 13, 'oh': 15, 'billy': 17, 'me': 18, 'why': 20, 'yo': 21}\n",
            "{'1': 2, 'by': 2, 'me': 2, 'i': 2, 'a': 2, 'through': 2, 'have': 2, 'comfort': 2, 'freedom': 2, 'leisure': 2, 'chorus': 2, 'air': 2, 'bridge': 2, 'heady': 2, 'baby': 2, 'eddies': 2, 'crazy': 2, 'cadabra': 2, 'abrogate': 2, 'need': 2, 'our': 2, '2': 2, 'as': 2, 'off': 3, 'this': 3, 'over': 3, 'and': 3, 'hes': 3, 'white': 3, 'no': 3, 'his': 4, 'like': 4, 'albino': 4, 'my': 5, 'you': 5, 'it': 5, 'out': 5, 'im': 7, '': 7, 'blut': 8, 'bank': 8, 'absolutely': 8, 'on': 11, 'all': 11, 'to': 11, 'so': 13, 'in': 13, 'the': 16, 'quarterback': 18, 'black': 25}\n",
            "{'verse': 2, 'tame': 2, 'cashmere': 2, 'jon': 2, 'shelley': 2, 'it': 2, 'feel': 2, 'bus': 2, 'yell': 2, 'refrain': 2, 'its': 2, 'party': 2, 'early': 2, 'youre': 2, 'lonely': 2, 'support': 2, 'gravity': 2, 'are': 2, 'for': 2, 'guess': 2, 'her': 2, 'best': 2, 'hello': 2, 'there': 2, 'im': 2, 'know': 2, '': 3, 'perfect': 3, 'the': 3, 'they': 3, 'necks': 3, 'to': 4, 'because': 5, 'only': 5, 'and': 5, 'a': 5, 'your': 5, 'do': 6, 'could': 6, 'od': 6, 'but': 7, 'dont': 8, 'what': 9, 'you': 9, 'dead': 9, 'play': 10, 'come': 12, 'i': 13, 'if': 13, 'kid': 27, 'would': 27, 'say': 27, 'my': 30, 'people': 30, 'hey': 35}\n",
            "{'baby': 2, 'verse': 2, 'god': 2, 'good': 2, 'chorus': 2, '2': 2, 'bridge': 2, 'shoot': 3, 'it': 3, 'up': 3, 'wasting': 4, 'time': 4, 'feels': 5, 'you': 5, 'fuck': 5, 'bb': 6, 'birds': 6, 'blood': 7, 'have': 8, '': 8, 'a': 9, 'sad': 9, 'cum': 9, 'ooh': 12, 'black': 12, '666': 14, 'im': 17, 'busy': 17, 'i': 18}\n",
            "{'get': 2, 'call': 2, 'verse': 2, 'them': 2, 'these': 2, '2': 2, 'what': 2, 'have': 2, 'deuce': 2, 'bam': 2, 'new': 2, 'glam': 2, 'fluke': 2, 'flam': 2, 'wellwell': 2, 'will': 2, 'idiot': 2, 'he': 2, 'she': 2, 'they': 2, 'woe': 2, 'is': 2, '1': 3, 'all': 3, 'im': 3, 'going': 3, 'use': 3, 'up': 3, 'now': 3, 'truth': 3, 'sold': 3, 'fucked': 3, 'chorus': 3, 'death': 3, 'lets': 3, 'touch': 3, 'no': 3, 'fucks': 3, 'were': 3, 'should': 3, 'our': 3, 'us': 3, 'ugh': 3, 'that': 4, 'cant': 4, 'hold': 4, 'worth': 4, 'be': 4, 'ill': 4, 'there': 4, 'got': 4, 'it': 5, '': 5, 'like': 5, 'down': 6, 'aint': 6, 'we': 6, 'wah': 6, 'blah': 6, 'why': 7, 'shit': 9, 'yes': 9, 'out': 10, 'i': 10, 'dont': 10, 'fuckfuck': 14, 'just': 15, 'you': 16, 'me': 28, 'fuck': 51}\n",
            "{'verse': 2, 'love': 2, 'prechorus': 2, 'whos': 2, 'suits': 2, 'who': 2, 'too': 2, 'well': 2, 'its': 2, 'gasp': 2, 'everything': 2, 'that': 2, 'propavoilashadowganda': 3, 'stigmata': 3, 'offer': 3, 'left': 3, 'step': 3, 'get': 3, 'crisis': 3, 'why': 3, 'bother': 3, 'quack': 3, 'priest': 3, 'win': 3, 'five': 3, 'dollar': 3, 'melanin': 3, 'pewter': 3, 'cellophane': 3, 'arms': 3, 'long': 3, 'as': 3, 'their': 3, 'legs': 3, 'even': 3, 'greys': 3, 'ohohohohoh': 3, 'refrain': 3, 'new': 3, 'lucky': 3, 'in': 3, 'cant': 4, 'i': 4, 'dont': 4, 'talk': 4, 'your': 5, 'like': 5, 'make': 5, 'right': 6, 'up': 6, 'the': 7, '': 7, 'to': 9, 'you': 10, 'help': 10, 'shadow': 12, 'my': 16, 'voila': 20}\n",
            "{'verse': 2, 'the': 2, 'all': 2, 'in': 2, 'on': 2, 'that': 2, 'like': 2, 'shh': 2, 'to': 2, 'it': 2, 'for': 3, 'of': 3, 'chorus': 3, 'i': 4, 'my': 4, 'bullshitter': 4, 'shitty': 4, 'stripper': 4, 'silhouette': 4, 'lifter': 4, 'struck': 4, 'stuck': 4, 'off': 4, 'kilter': 4, 'bent': 4, 'bewildered': 4, 'fucking': 4, 'downer': 4, 'binge': 4, 'thinner': 4, 'you': 4, '': 6, 'im': 39, 'a': 40, 'big': 53, 'dipper': 54}\n",
            "{'everything': 2, 'rigged': 2, 'this': 2, 'its': 2, 'not': 2, 'concentration': 2, 'those': 2, 'thoughts': 2, 'baby': 2, 'feel': 2, 'just': 2, 'like': 2, 'look': 2, 'to': 2, 'gawk': 2, 'see': 2, 'is': 2, 'anyday': 2, 'mayday': 2, 'im': 2, 'a': 2, 'state': 2, 'on': 2, 'us': 2, 'and': 2, 'sniff': 2, 'share': 2, 'braille': 2, 'which': 2, 'mistake': 2, 'place': 3, 'all': 3, 'we': 3, 'too': 3, 'many': 3, '': 4, 'at': 4, 'cant': 4, 'me': 5, 'spit': 5, 'trip': 6, 'you': 8, 'care': 9, 'about': 9, 'real': 9, 'life': 9, 'dont': 11, 'states': 19, 'the': 20, 'united': 20, 'with': 22, 'in': 22, 'break': 24, 'face': 25, 'mirrors': 26, 'my': 30, 'i': 30}\n",
            "{'sensation': 2, 'from': 2, 'it': 2, 'came': 2, 'wanna': 2, 'one': 2, 'all': 2, 'got': 2, 'the': 2, 'whats': 2, 'wrong': 2, 'who': 2, 'so': 2, 'at': 2, 'that': 2, 'through': 2, 'skinhead': 2, 'than': 3, 'aint': 3, 'verse': 3, 'a': 3, 'youre': 3, 'im': 3, 'more': 3, 'we': 4, '': 4, 'chorus': 4, 'base': 4, 'right': 4, 'get': 4, 'no': 5, 'bitch': 5, 'blown': 5, 'out': 5, 'in': 5, 'with': 5, 'on': 5, 'like': 7, 'to': 7, 'of': 7, 'you': 8, 'inanimate': 9, 'i': 9, 'my': 17}\n",
            "{'light': 2, '1': 2, 'money': 2, 'as': 2, 'been': 2, 'for': 2, 'why': 2, 'not': 2, 'to': 2, 'look': 2, 'never': 2, 'footprint': 2, 'species': 2, 'bitch': 2, 'drop': 2, 'man': 2, 'down': 2, 'lose': 2, 'more': 2, 'catch': 2, 'when': 3, 'its': 3, 'if': 3, 'ive': 3, 'be': 3, 'chorus': 3, 'costs': 3, 'cost': 3, 'youre': 3, 'see': 3, '2': 3, 'trust': 3, 'ringer': 3, 'over': 4, 'dont': 4, 'no': 4, '': 4, 'of': 4, 'ill': 4, 'cant': 4, 'deuce': 4, 'a': 5, 'it': 5, 'boom': 5, 'ha': 5, 'up': 6, 'fuck': 6, 'at': 6, 'get': 7, 'all': 7, 'like': 8, 'the': 9, 'me': 9, 'turned': 10, 'you': 10, 'my': 12, 'pahpow': 13, 'im': 14, 'i': 17, 'off': 20}\n",
            "{'that': 2, 'of': 2, 'do': 2, 'dare': 2, 'if': 2, 'so': 2, 'no': 2, 'floor': 2, 'refrain': 3, 'verse': 3, 'ill': 3, 'about': 3, 'just': 3, 'not': 3, 'this': 3, 'obviously': 3, 'aint': 3, 'game': 4, 'youre': 4, 'like': 4, 'to': 4, 'im': 5, 'make': 5, 'your': 6, 'my': 6, 'fucker': 7, '': 8, 'i': 8, 'you': 12, 'tame': 14, 'and': 16, 'try': 17, 'me': 18, 'why': 24, 'gotta': 25, 'lie': 25, 'a': 26, 'bitch': 27}\n",
            "{'that': 2, 'dont': 2, 'to': 2, 'cause': 2, 'she': 2, 'touch': 2, 'this': 2, 'where': 2, 'have': 2, 'been': 2, 'verse': 2, 'of': 2, 'time': 2, 'one': 2, 'again': 2, 'us': 2, 'show': 2, 'me': 2, 'with': 3, 'go': 3, 'is': 3, 'chorus': 3, 'dipdipdip': 3, 'drop': 3, 'asses': 3, 'triptriptrip': 3, 'pick': 3, 'pace': 3, 'chasing': 3, 'mind': 3, 'lick': 4, 'place': 4, 'we': 4, 'were': 4, 'piss': 5, 'face': 5, 'out': 6, 'cant': 6, 'stop': 6, 'when': 6, 'dripdripdrip': 6, 'in': 7, '': 7, 'on': 7, 'my': 7, 'your': 8, 'up': 8, 'youre': 8, 'fuck': 9, 'psspsspss': 9, 'psspss': 9, 'and': 12, 'it': 12, 'im': 12, 'the': 17, 'you': 20, 'i': 23, 'like': 25, 'cuh': 35, 'beh': 76}\n",
            "{'clock': 2, 'lick': 2, 'this': 2, 'are': 2, 'kickers': 2, 'smoke': 2, 'coming': 2, 'out': 2, 'fingers': 2, 'again': 2, 'physical': 2, 'world': 2, 'comply': 2, 'house': 2, 'above': 2, 'life': 2, 'grin': 2, 'turn': 2, 'flag': 2, 'shiny': 2, 'chorus': 3, 'ive': 3, 'verse': 3, 'no': 3, 'cause': 3, 'it': 3, 'now': 3, 'paid': 3, 'universe': 3, 'bads': 3, 'youre': 4, 'with': 4, 'in': 4, 'white': 4, 'by': 4, 'get': 4, 'happens': 5, '': 5, 'got': 5, 'running': 5, 'favorite': 5, 'color': 5, 'is': 5, 'oh': 5, 'god': 5, 'wearing': 5, 'gloves': 5, 'mall': 5, 'rich': 5, 'wanna': 5, 'check': 5, 'pockets': 5, 'but': 5, 'when': 5, 'not': 5, 'bitch': 6, 'black': 6, 'like': 6, 'and': 6, 'bout': 7, 'do': 7, 'fuck': 7, 'know': 8, 'shit': 8, 'cant': 9, 'on': 9, 'to': 10, 'through': 10, 'a': 10, 'what': 11, 'you': 12, 'powers': 14, 'b': 15, 'me': 16, 'your': 16, 'that': 17, 'i': 19, 'the': 24, 'my': 25, 'im': 33}\n",
            "{'1': 2, 'ever': 2, 'wait': 2, 'for': 2, 'bridge': 2, 'all': 2, 'have': 2, 'dont': 2, '2': 2, 'cant': 2, 'them': 2, 'peak': 2, 'keep': 2, 'while': 2, 'feet': 2, 'born': 2, 'put': 2, 'sleep': 2, 'better': 2, 'on': 3, 'chorus': 3, 'fuck': 3, 'roll': 3, 'into': 3, 'at': 3, 'this': 3, 'get': 3, 'back': 4, 'like': 4, 'in': 4, 'life': 4, 'face': 4, 'without': 4, 'eyes': 4, 'reply': 4, 'to': 5, 'as': 5, 'of': 6, 'a': 6, '': 6, 'frightened': 6, 'people': 6, 'who': 6, 'cowards': 6, 'we': 6, 'what': 6, 'play': 6, 'part': 6, 'ill': 6, 'heart': 6, 'dry': 6, 'cause': 6, 'so': 6, 'feel': 7, 'bleed': 7, 'no': 7, 'me': 8, 'your': 9, 'are': 12, 'fucking': 13, 'im': 14, 'know': 14, 'look': 16, 'away': 16, 'beyond': 18, 'my': 22, 'you': 23, 'alive': 24, 'i': 31}\n",
            "{'damn': 2, '1': 2, 'sun': 2, 'mind': 2, 'one': 2, 'day': 2, 'its': 2, 'get': 2, 'verse': 2, '2': 2, 'this': 2, 'for': 2, 'war': 2, 'much': 2, 'be': 2, 'with': 2, 'bridge': 2, 'believe': 2, 'dont': 2, 'shoved': 2, 'her': 2, 'cunt': 2, 'chorus': 3, 'left': 3, 'im': 3, 'cant': 3, 'just': 3, 'em': 3, 'in': 4, 'so': 4, 'pull': 4, 'face': 4, 'dirt': 4, 'slow': 4, 'only': 4, 'wake': 4, 'third': 4, 'narco': 4, 'held': 4, 'deep': 4, 'eye': 4, 'move': 4, 'hold': 4, 'recede': 4, 'reload': 4, 'gun': 4, 'chances': 4, 'closed': 4, 'your': 4, 'a': 4, 'shoot': 4, 'out': 5, 'way': 5, 'no': 5, 'hate': 5, 'you': 5, 'fuck': 6, '': 6, 'these': 8, 'days': 8, 'rapid': 8, 'road': 8, 'of': 9, 'up': 9, 'like': 10, 'the': 13, 'to': 13, 'my': 18, 'i': 34}\n",
            "{'tired': 2, 'perks': 2, 'tried': 2, 'nothing': 2, 'everything': 2, 'works': 2, 'less': 2, 'worth': 2, 'served': 2, 'bid': 2, 'is': 2, 'just': 2, 'free': 2, 'landed': 2, 'tricks': 2, 'see': 2, 'high': 2, 'time': 2, 'man': 2, 'quit': 2, 'let': 2, 'know': 2, 'when': 2, 'get': 2, 'going': 2, 'verse': 2, 'do': 2, 'listen': 2, 'can': 2, 'him': 2, 'no': 2, 'he': 2, 'hands': 2, 'own': 2, 'been': 2, 'head': 2, 'dead': 2, 'grey': 2, 'got': 2, 'crept': 2, 'kept': 2, 'bae': 2, 'youre': 2, 'had': 2, 'decision': 2, 'believe': 2, 'many': 2, 'aint': 2, 'died': 2, 'care': 2, 'liar': 2, 'sat': 2, 'here': 2, 'claiming': 2, 'exit': 2, 'minute': 2, 'cant': 2, 'say': 2, 'have': 2, 'fucking': 3, 'of': 3, 'wasnt': 3, 'what': 3, 'bridge': 3, 'seen': 3, 'far': 3, 'wont': 3, 'phone': 3, 'too': 3, 'long': 3, 'one': 3, 'be': 3, 'but': 3, 'make': 3, 'if': 3, 'die': 3, 'was': 4, 'some': 4, 'ring': 4, '': 4, 'how': 4, 'world': 4, 'fall': 4, 'me': 4, 'death': 4, 'that': 4, 'wouldnt': 4, 'gp': 5, 'ive': 5, 'life': 5, 'not': 5, 'this': 5, 'your': 5, 'dont': 5, 'nights': 5, 'to': 6, 'out': 6, 'id': 6, 'fuck': 7, 'it': 7, 'like': 7, 'for': 9, 'a': 9, 'all': 10, 'the': 10, 'im': 11, 'in': 13, 'you': 14, 'on': 14, 'way': 20, 'my': 22, 'i': 34}\n",
            "{'who': 2, 'like': 2, 'them': 2, 'over': 2, 'and': 2, 'bet': 2, 'bitch': 2, 'of': 2, 'with': 2, 'bridge': 2, 'pull': 2, 'lead': 2, 'us': 2, 'reflux': 2, 'chorus': 3, 'this': 3, 'fuck': 3, 'a': 3, 'verse': 4, 'ride': 4, 'me': 4, 'want': 4, 'next': 4, 'time': 4, 'doesnt': 4, 'sound': 4, 'so': 4, 'when': 4, 'say': 4, 'mind': 4, 'im': 5, 'in': 5, 'clementine': 8, 'creevy': 8, '': 8, 'it': 8, 'my': 9, 'to': 9, 'you': 10, 'keep': 16, 'people': 18, 'ideas': 18, 'giving': 18, 'good': 19, 'bad': 23, 'i': 31}\n",
            "{'verse': 2, 'chorus': 2, 'presence': 2, 'flog': 2, 'your': 2, 'confidence': 2, 'who': 2, 'want': 2, 'brand': 2, 'new': 2, 'complex': 2, 'now': 2, 'on': 2, 'go': 2, 'get': 2, 'used': 2, 'to': 2, 'shoot': 2, 'catch': 2, 'snap': 2, 'come': 2, 'back': 2, 'act': 2, 'natural': 2, 'style': 2, 'dive': 2, 'bomber': 2, 'crown': 2, 'blink': 3, 'and': 3, 'youre': 3, 'over': 3, 'wouldnt': 3, 'shut': 3, 'fuck': 3, 'answered': 3, 'for': 3, 'their': 3, 'behavior': 3, 'cleft': 3, 'palate': 3, 'creator': 3, 'morgue': 3, 'forsaker': 3, 'phallus': 3, 'cloud': 3, 'vapor': 3, '': 4, 'raw': 4, 'fuckin': 4, 'filter': 4, 'crooked': 4, 'needle': 4, 'selfinflicted': 4, 'whatd': 4, 'tell': 4, 'them': 4, 'just': 4, 'told': 4, 'em': 4, 'hells': 4, 'existence': 4, 'but': 4, 'nobody': 4, 'business': 4, 'fetch': 4, 'the': 4, 'hooded': 4, 'regime': 4, 'ill': 5, 'call': 5, 'ebola': 5, 'clip': 6, 'hundred': 6, 'doves': 6, 'bald': 6, 'rasta': 6, 'dont': 6, 'i': 7, 'me': 7, 'mota': 7, 'know': 8, 'cobra': 8, 'draped': 8, 'in': 8, 'give': 9, 'it': 9, 'hot': 10, 'like': 10, 'oh': 11, 'up': 12, 'no': 15, 'a': 16, 'you': 17, 'my': 17, 'head': 29, 'blo': 87}\n",
            "{'la': 2, 'its': 2, 'chorus': 2, 'verse': 2, 'til': 2, 'your': 2, 'shots': 2, 'skidding': 2, 'yourself': 2, 'ive': 2, 'of': 2, 'feel': 2, 'bounce': 2, 'no': 2, 'you': 2, 'skids': 2, 'dont': 3, 'all': 3, '': 3, 'me': 3, 'to': 3, 'a': 3, 'skid': 4, 'the': 4, 'on': 4, 'cant': 4, 'in': 5, 'massive': 6, 'out': 6, 'pulling': 8, 'im': 9, 'greed': 10, 'tastes': 10, 'sin': 10, 'i': 16, 'my': 17, 'like': 21, 'pull': 39, 'are': 48, 'spikes': 66}\n",
            "{'like': 2, 'chorus': 2, 'this': 2, 'and': 2, 'by': 2, 'flaws': 2, 'get': 2, 'knocked': 2, 'off': 2, 'verse': 3, 'of': 4, 'a': 4, 'on': 4, '': 5, 'falling': 7, 'tune': 7, 'grooves': 7, 'uhh': 7, 'do': 7, 'is': 7, 'lose': 7, 'form': 7, 'im': 7, 'your': 7, 'all': 8, 'in': 9, 'i': 10, 'warping': 13, 'out': 15, 'my': 19}\n",
            "{'seen': 2, 'em': 2, 'all': 2, 'youre': 2, 'so': 2, '2': 2, 'shit': 2, 'but': 2, 'of': 2, 'they': 2, 'wave': 2, '3': 2, 'posse': 2, 'steadily': 2, 'void': 2, 'split': 2, 'leisure': 2, '1': 3, 'verse': 3, 'see': 3, 'chorus': 3, 'might': 3, 'feel': 3, 'them': 3, 'off': 3, 'in': 3, 'cause': 3, 'up': 3, 'just': 3, 'why': 4, 'be': 4, 'a': 4, 'on': 4, 'your': 4, 'dont': 4, 'the': 5, 'me': 5, '': 6, 'think': 7, 'are': 7, 'do': 7, 'know': 7, 'am': 7, 'fail': 7, 'understand': 7, 'my': 7, 'to': 9, 'fucks': 14, 'who': 16, 'i': 19, 'eh': 21, 'im': 23, 'you': 28, 'like': 37}\n",
            "{'bitch': 2, 'like': 2, 'ivy': 2, 'dont': 2, 'let': 2, 'you': 2, 'chorus': 2, 'high': 2, 'get': 2, 'never': 2, '': 3, 'oh': 3, 'to': 3, 'your': 3, 'the': 3, 'bubbles': 3, 'buried': 4, 'in': 4, 'this': 4, 'my': 4, 'jungle': 5, 'me': 5, 'a': 5, 'respect': 10, 'chance': 10, 'cease': 10, 'desist': 10, 'when': 10, 'chant': 10, 'and': 11, 'weak': 12, 'fuck': 15, 'i': 15, 'wick': 20, 'no': 23}\n",
            "{'verse': 2, 'so': 2, 'thats': 2, '2': 2, 'that': 2, 'from': 2, 'in': 2, 'cause': 2, 'up': 2, 'like': 2, 'shade': 2, 'sex': 2, 'of': 3, 'chorus': 4, 'life': 4, 'sucks': 4, 'and': 4, 'lifes': 4, 'lie': 4, '1': 5, '': 5, 'im': 5, 'for': 5, 'it': 5, 'a': 5, 'you': 6, 'shit': 6, 'this': 7, 'me': 7, 'i': 8, 'to': 8, 'clean': 13, 'never': 13, 'when': 13, 'load': 13, 'upload': 13, 'dont': 14, 'face': 14, 'begets': 14, 'down': 15, 'my': 15, 'know': 26, 'last': 26, 'we': 52, 'trash': 74}\n",
            "{'verse': 2, 'like': 2, 'chorus': 2, 'up': 2, 'he': 2, 'no': 2, 'my': 3, 'dont': 3, 'me': 3, '': 4, 'alright': 4, 'i': 4, 'get': 4, 'is': 4, 'hairstyle': 4, 'asshole': 4, 'be': 4, 'pussy': 4, 'church': 4, 'first': 4, 'at': 6, 'that': 7, 'three': 8, 'four': 8, 'music': 8, 'use': 8, 'us': 8, 'whos': 8, 'after': 8, 'before': 8, 'does': 8, 'just': 8, 'stay': 8, 'fucked': 8, 'kay': 8, 'what': 9, 'or': 9, 'you': 12, 'a': 12, 'disjointed': 16, 'houdini': 16, 'this': 20, 'fuck': 22, 'baby': 31}\n",
            "{'chorus': 2, 'wheres': 2, 'at': 2, 'can': 2, 'go': 2, 'cash': 2, 'ass': 2, 'never': 2, 'oh': 2, 'be': 2, 'live': 2, 'wall': 2, 'all': 2, 'put': 2, 'hit': 2, 'got': 2, 'though': 2, 'how': 2, 'know': 2, 'lits': 2, 'with': 2, 'not': 3, 'cant': 3, 'in': 3, 'like': 3, 'off': 3, 'or': 3, 'verse': 4, 'im': 4, 'no': 4, 'and': 4, 'this': 4, 'to': 4, 'dont': 4, 'out': 4, 'sneak': 5, 'up': 5, 'shed': 5, 'shh': 5, 'shock': 5, 'body': 5, 'clear': 5, 'your': 5, 'lit': 5, 'youre': 5, 'the': 5, 'shit': 5, '': 6, 'a': 6, 'bitch': 6, 'you': 7, 'on': 9, 'wont': 9, 'it': 12, 'poison': 14, 'i': 22, 'my': 23, 'obey': 24, 'me': 31}\n",
            "{'three': 2, 'fire': 2, 'margarita': 2, 'wood': 2, 'she': 2, 'solar': 2, 'panels': 2, 'thirty': 2, 'cents': 2, 'watt': 2, 'future': 2, 'theres': 2, 'party': 2, 'past': 2, 'shes': 2, 'cop': 2, 'verse': 2, 'ill': 2, 'with': 2, 'bars': 2, 'service': 2, 'carve': 2, 'art': 2, 'conk': 2, 'devils': 2, 'bedrooms': 3, 'good': 3, 'neighborhood': 3, 'anyone': 3, 'that': 3, 'wants': 3, 'to': 3, 'like': 3, 'made': 3, 'of': 3, 'got': 3, 'from': 3, 'card': 3, 'i': 3, 'bitch': 3, 'veal': 3, 'heal': 3, 'out': 4, '': 4, 'me': 4, 'head': 4, 'this': 4, 'the': 5, 'for': 6, 'nylons': 6, 'side': 6, 'bitches': 6, 'dont': 6, 'table': 6, 'body': 6, 'on': 8, 'la': 8, 'all': 10, 'up': 10, 'glory': 10, 'hole': 10, 'so': 10, 'now': 10, 'im': 11, 'you': 12, 'a': 13, 'know': 13, 'through': 13, 'in': 16, 'your': 16, 'my': 24, 'no': 29}\n",
            "{'america': 2, 'is': 2, 'bad': 2, 'me': 2, 'fuck': 2, 'yeah': 2, 'youre': 2, 'aint': 2, 'skank': 2, 'girl': 2, 'no': 2, 'chorus': 2, 'full': 2, 'all': 2, 'it': 2, 'to': 2, 'though': 2, 'ring': 2, 'the': 2, 'door': 2, 'bell': 3, 'on': 3, 'that': 3, 'in': 3, 'here': 3, '': 3, 'dro': 3, 'of': 3, 'for': 3, 'make': 3, 'your': 4, 'beat': 4, 'thought': 4, 'heard': 4, 'mosquito': 4, 'vox': 4, 'desert': 4, 'and': 4, 'our': 4, 'beats': 4, 'her': 5, 'i': 5, 'she': 5, 'we': 5, 'but': 6, 'thirsty': 6, 'you': 9, 'know': 10, 'shes': 11, 'a': 14, 'so': 21}\n",
            "{'also': 2, 'in': 2, 'thing': 2, 'see': 2, 'or': 2, 'of': 2, 'and': 2, 'keep': 2, 'no': 2, 'rain': 2, 'seen': 2, 'clean': 2, 'like': 2, 'prechorus': 2, 'all': 2, 'your': 2, 'key': 2, 'chorus': 3, 'as': 4, 'you': 4, 'a': 4, '': 4, 'priceless': 6, 'touch': 6, 'feeds': 6, 'eat': 6, 'my': 7, 'fuck': 7, 'got': 8, 'biters': 8, 'with': 8, 'me': 9, 'gank': 12, 'move': 12, 'i': 15, 'the': 18, 'bite': 30, 'that': 36, 'aye': 74, 'doe': 74}\n",
            "{'pit': 2, 'fucking': 2, 'with': 2, 'go': 2, 'me': 2, 'the': 2, 'and': 2, 'on': 2, 'verse': 2, 'of': 2, 'flesh': 2, 'hammer': 2, 'bottomless': 2, 'bitch': 2, 'hate': 3, 'chorus': 3, 'through': 3, 'ill': 4, 'hoovesll': 4, 'this': 4, 'your': 5, 'snub': 5, 'faster': 5, 'til': 5, 'drenched': 5, '': 6, 'gag': 6, 'all': 7, 'gagballs': 7, 'drooling': 7, 'pools': 7, 'cause': 7, 'im': 8, 'see': 8, 'fiending': 8, 'marvelous': 8, 'my': 13, 'half': 26, 'fucked': 26, 'in': 31, 'i': 38, 'you': 51}\n",
            "{'her': 2, 'spinning': 2, 'death': 2, 'till': 2, 'out': 2, 'lick': 2, 'up': 2, 'refrain': 2, 'chorus': 2, 'your': 2, 'city': 2, 'no': 2, 'laws': 2, 'here': 2, 'airsoft': 2, 'start': 2, 'popping': 2, 'off': 2, 'that': 2, 'flack': 2, 'quit': 2, 'snitches': 2, 'wear': 2, 'dirty': 2, 'dick': 2, 'hella': 2, 'shit': 2, 'only': 2, 'grips': 3, 'is': 3, 'online': 3, 'im': 3, 'on': 3, 'fuck': 3, 'me': 3, 'for': 3, 'you': 3, 'punks': 3, 'nailed': 3, 'daytime': 3, 'who': 3, 'headline': 3, 'with': 3, 'us': 3, 'as': 4, 'all': 4, 'got': 4, 'good': 4, 'friends': 4, 'love': 4, 'pity': 4, 'motherfucker': 4, 'like': 4, 'and': 5, '': 5, 'i': 6, 'get': 7, 'in': 9, 'nine': 10, 'the': 10, 'it': 12, 'to': 16, 'pretty': 20, 'a': 20}\n",
            "{'verse': 2, '1': 2, 'rubberized': 2, 'it': 2, 'at': 2, 'in': 2, 'chorus': 2, '2': 2, 'too': 2, 'try': 2, 'wait': 2, 'signal': 2, 'my': 2, 'to': 2, 'yet': 2, 'fuck': 2, 'of': 2, 'fog': 2, 'demeanor': 2, 'dddark': 2, 'skills': 2, 'raise': 2, 'dead': 2, 'togethers': 3, 'unwise': 3, 'sever': 3, 'ties': 3, 'eyes': 3, 'for': 3, 'with': 3, 'now': 3, 'all': 4, 'green': 4, 'as': 4, 'what': 4, '': 5, 'should': 6, 'opportunity': 6, 'arise': 6, 'serpent': 6, 'tongue': 6, 'the': 10, 'me': 12, 'flies': 12, 'vomit': 15}\n",
            "{'freak': 2, 'seek': 2, 'dont': 2, 'those': 2, 'are': 2, 'satanic': 2, 'urges': 2, 'prechorus': 2, 'down': 2, 'for': 2, 'up': 2, 'am': 2, 'your': 2, 'you': 2, 'changing': 2, 'ill': 2, 'stay': 2, 'a': 2, 'while': 2, 'the': 3, 'my': 3, 'chorus': 3, 'dreaming': 3, 'feigning': 3, 'hhold': 3, 'this': 3, 'statue': 3, 'think': 3, 'now': 4, 'require': 4, 'privacy': 4, 'always': 4, 'thinking': 4, 'finally': 4, '': 6, 'im': 6, 'right': 7, 'bboom': 9, 'i': 10, 'paint': 12, 'black': 21, 'boom': 28, 'hey': 30}\n",
            "{'us': 2, 'verse': 2, 'out': 2, 'my': 2, 'last': 2, 'chorus': 2, 'fucking': 2, 'say': 2, 'with': 2, 'her': 2, 'moods': 2, 'big': 2, 'real': 2, 'head': 2, 'hunting': 2, 'blunt': 2, 'kissing': 2, 'death': 2, 'dumping': 2, 'body': 2, 'gripping': 2, 'she': 2, 'sleight': 2, 'hand': 2, 'refrain': 2, 'custody': 3, 'come': 3, 'how': 3, 'trust': 4, 'we': 4, 'of': 4, 'your': 4, 'word': 4, 'nihil': 4, 'drill': 4, 'for': 4, 'in': 6, 'me': 6, 'know': 6, '': 6, 'a': 6, 'think': 8, 'got': 8, 'jump': 8, 'will': 9, 'to': 14, 'you': 17, 'cunt': 19, 'eat': 20, 'devils': 20, 'it': 21, 'like': 22, 'the': 35}\n",
            "{}\n",
            "{'verse': 2, 'wet': 2, 'hole': 2, 'when': 2, 'hang': 2, 'out': 2, 'shit': 2, 'not': 2, 'pigs': 2, 'this': 2, 'tryna': 2, 'dick': 2, 'your': 2, 'chicks': 2, 'prechorus': 2, 'better': 2, 'ha': 2, 'got': 2, 'her': 2, 'right': 2, 'to': 2, 'with': 2, 'steeze': 2, 'is': 2, 'wwwwho': 2, 'haha': 2, 'at': 3, 'fuck': 3, 'ill': 3, 'i': 3, 'god': 3, 'youre': 3, 'amazing': 3, 'put': 3, 'under': 3, 'wingalingalanglanglang': 3, 'could': 3, 'it': 3, 'be': 3, 'these': 4, 'are': 4, 'like': 4, 'hey': 4, 'gniod': 4, '': 5, 'im': 5, 'and': 5, 'dog': 5, 'so': 5, 'in': 6, 'you': 6, 'the': 7, 'crazy': 7, 'feel': 7, 'me': 7, 'gimme': 7, 'ownage': 8, 'slap': 8, 'doing': 8, 'hahaha': 9, 'my': 9, 'a': 11, 'bitch': 13}\n",
            "{'verse': 2, 'front': 2, 'you': 2, 'on': 2, 'one': 2, 'am': 2, 'and': 2, 'man': 2, 'your': 2, 'bitch': 2, 'my': 2, 'like': 2, 'biatch': 3, '': 3, 'im': 3, 'holes': 3, 'the': 3, 'of': 4, 'i': 4, 'to': 5, 'arghargh': 6, 'this': 6, 'its': 11, 'show': 12, 'shit': 13, 'a': 16}\n",
            "{'you': 2, 'might': 2, 'throw': 2, 'ground': 2, 'leave': 2, 'your': 2, 'shit': 2, 'around': 2, 'what': 2, 'verse': 2, 'double': 2, 'stack': 2, 'pay': 2, 'speed': 2, 'with': 2, 'tail': 2, 'like': 2, 'flag': 3, 'full': 3, 'of': 3, 'backslide': 3, 'cant': 3, 'low': 3, 'no': 3, 'chorus': 4, 'southside': 4, 'dont': 4, 'bank': 4, 'certified': 4, 'amount': 4, 'i': 4, 'heard': 4, 'about': 4, 'shes': 4, 'walkabout': 4, 'dream': 4, 'time': 4, 'announced': 4, 'back': 4, 'take': 5, 'how': 5, 'that': 5, '': 6, 'byebye': 6, 'stand': 7, 'by': 7, 'dealer': 7, 'hold': 7, 'franchise': 7, 'to': 7, 'cause': 10, 'sounds': 10, 'tight': 10, 'do': 11, 'booty': 12, 'me': 14, 'it': 14, 'a': 16, 'outside': 22, 'oh': 24, 'my': 24, 'yuh': 24, 'on': 28, 'the': 29, 'streaky': 53}\n",
            "{'in': 2, 'with': 2, 'theyre': 2, 'their': 2, 'sunset': 2, 'they': 2, 'refrain': 2, 'lately': 2, 'haunted': 2, 'jetty': 2, 'jinx': 2, 'now': 2, 'shes': 2, 'wahwahwahwahwahwild': 2, 'it': 2, 'out': 2, 'my': 2, 'suhsuhsuhsuhsuh': 2, '2': 2, 'quarter': 2, 'lovely': 2, 'dusty': 2, 'these': 2, 'cut': 2, 'below': 2, 'is': 2, 'above': 2, 'a': 3, '1': 3, 'to': 3, 'i': 3, 'show': 3, 'of': 3, 'chorus': 3, 'choke': 3, 'knives': 3, 'im': 4, 'thingany': 4, 'so': 4, 'pinky': 4, 'ring': 4, 'you': 4, 'dilemma': 5, 'me': 5, '': 6, 'its': 7, 'ahahahahon': 7, 'like': 8, 'and': 8, 'on': 11}\n",
            "{'up': 2, 'verse': 2, 'hes': 2, 'dorms': 2, 'and': 2, 'good': 2, 'as': 2, 'just': 2, 'needs': 2, 'to': 2, 'got': 3, 'refrain': 3, 'in': 3, 'a': 4, 'the': 5, '': 6, 'he': 7, 'richard': 8, 'little': 8}\n",
            "{'know': 2, 'dude': 2, 'just': 2, 'verse': 2, 'wont': 2, 'strange': 2, 'way': 2, 'its': 2, 'long': 2, 'since': 2, 'for': 2, 'us': 2, 'chorus': 2, 'stairs': 2, 'this': 2, 'my': 2, 'till': 2, 'ditch': 2, 'refrain': 3, 'we': 3, 'your': 3, 'on': 3, 'it': 3, 'of': 4, 'feel': 4, 'sick': 4, 'today': 4, 'wanna': 4, 'and': 4, 'me': 4, 'ill': 4, 'kill': 5, 'somebody': 5, 'dont': 6, 'so': 6, 'like': 6, 'i': 7, 'there': 7, '': 8, 'afraid': 8, 'here': 8, 'im': 9, 'be': 10, 'fear': 11, 'with': 11, 'to': 13, 'the': 16, 'jump': 17, 'you': 27}\n",
            "{'verse': 2, 'called': 2, 'cheap': 2, 'slack': 2, 'jaws': 2, 'blows': 2, 'weak': 2, 'chins': 2, 'checked': 2, 'like': 2, 'cho': 2, 'los': 2, 'signs': 2, 'left': 2, 'ah': 2, 'yes': 2, 'try': 2, 'mine': 2, 'this': 2, 'stretch': 2, 'times': 2, 'machine': 2, 'at': 2, 'chorus': 2, 'refrain': 2, 'nut': 2, 'jobs': 2, 'not': 2, 'hired': 2, 'lands': 2, 'road': 2, 'rash': 2, 'war': 2, 'path': 2, 'cross': 2, 'fire': 2, 'non': 2, 'hot': 2, 'mess': 2, 'known': 2, 'stalk': 2, 'talk': 2, 'show': 2, 'snatch': 2, 'yours': 2, 'trap': 2, 'doors': 2, 'ripper': 2, 'lunar': 2, 'gush': 2, 'on': 2, 'in': 2, 'and': 2, 'everything': 2, 'rot': 2, 'clutch': 2, 'your': 2, 'scorned': 2, 'born': 2, 'torn': 2, 'trick': 2, 'core': 2, 'breached': 2, 'shit': 2, 'head': 2, 'bitch': 2, 'short': 2, 'street': 2, 'shut': 2, 'or': 2, 'fed': 2, 'both': 2, 'tight': 3, 'moonlight': 3, 'shots': 4, 'low': 4, 'chin': 4, 'no': 4, 'life': 4, 'thresh': 4, 'hold': 4, 'job': 4, 'threats': 4, 'too': 4, 'clot': 4, 'corpse': 4, 'husk': 4, 'shook': 4, 'up': 5, '': 6, 'fuck': 6, 'less': 6, 'why': 10, 'me': 11, 'wah': 12, 'disappointed': 12, 'didah': 72}\n",
            "{'own': 2, 'as': 2, 'go': 2, 'life': 2, 'come': 2, 'happening': 2, 'even': 2, 'nevermind': 2, 'sound': 2, 'pound': 2, 'straight': 2, 'into': 2, 'seem': 2, 'them': 2, 'be': 2, 'your': 2, 'with': 2, 'aint': 2, 'one': 2, 'blame': 2, 'game': 2, 'whole': 2, 'thang': 2, 'bring': 2, 'said': 2, 'gonna': 2, 'for': 2, 'bit': 2, 'care': 2, 'motions': 2, 'happen': 2, 'never': 2, 'knowin': 2, 'where': 2, 'were': 2, 'rollin': 2, 'waves': 2, 'shot': 2, 'what': 2, 'feel': 2, 'bridge': 2, 'so': 2, 'high': 2, 'flesh': 2, 'oh': 2, 'hes': 2, 'been': 2, 'resurrected': 2, 'nowhere': 2, 'off': 2, 'why': 2, 'everything': 2, 'death': 3, 'this': 3, 'im': 3, 'around': 3, 'now': 3, 'at': 3, 'insane': 3, 'its': 3, 'on': 3, 'cant': 3, 'man': 3, 'fuck': 3, 'time': 3, 'too': 3, 'much': 3, 'rise': 3, 'eye': 3, 'bag': 3, 'wanna': 3, 'verse': 4, 'down': 4, 'way': 4, 'pain': 4, 'if': 4, 'take': 4, 'makes': 4, 'give': 4, 'a': 4, 'goin': 4, 'right': 4, 'we': 5, 'no': 5, 'all': 5, 'of': 5, 'my': 5, 'know': 5, 'through': 6, 'make': 6, 'that': 7, '': 7, 'punk': 7, 'dont': 8, 'like': 8, 'in': 8, 'and': 9, 'just': 9, 'shit': 9, 'me': 9, 'i': 9, 'to': 12, 'you': 12, 'the': 23, 'it': 36, 'get': 60, 'up': 65}\n",
            "{'fit': 2, 'they': 2, 'down': 2, 'tongue': 2, 'jaws': 2, 'body': 2, 'want': 2, 'ever': 2, 'get': 2, 'head': 2, 'me': 2, 'cold': 2, 'chorus': 2, 'been': 2, 'youre': 2, 'trick': 2, 'by': 2, 'on': 2, 'fall': 3, 'all': 3, 'cant': 3, 'off': 3, 'you': 3, 'that': 3, 'like': 3, 'our': 3, 'verse': 4, 'through': 4, 'a': 5, 'in': 6, 'out': 6, 'guillotine': 7, '': 7, 'and': 8, 'to': 9, 'of': 9, 'the': 19, 'goes': 49, 'yuh': 49, 'it': 54}\n",
            "{'got': 2, 'which': 2, 'were': 2, 'cut': 2, 'spill': 2, 'revelations': 2, 'center': 2, 'imagination': 2, 'forehead': 2, 'mine': 2, 'submergin': 2, 'sinkin': 2, 'noahs': 2, 'ark': 2, 'virgin': 2, 'thinkin': 2, 'alright': 2, 'writeoffs': 2, 'belong': 2, 'brain': 2, 'coverage': 2, 'sore': 2, 'ghost': 2, 'compound': 2, 'saboteur': 2, 'cloud': 2, 'war': 2, 'chump': 2, 'saddle': 2, 'motionless': 2, 'struck': 2, 'belly': 2, 'flow': 2, 'always': 2, 'ass': 2, 'had': 2, 'wheel': 2, 'could': 2, 'bone': 2, 'feel': 2, 'leave': 2, 'rabbit': 2, 'last': 2, 'poststratosphere': 2, 'look': 2, 'place': 2, 'jump': 2, 'thats': 2, 'call': 2, 'long': 2, 'tongue': 2, '4': 2, 'who': 2, 'am': 2, 'makes': 2, 'desert': 2, 'killer': 2, 'five': 2, 'three': 2, 'spread': 2, 'strategy': 2, 'cauterize': 2, 'loose': 2, 'strands': 2, 'finders': 2, 'thin': 2, 'spotlight': 2, 'proof': 2, 'pursue': 2, 'friends': 2, 'risk': 2, 'he': 2, 'left': 2, '5': 2, 'ask': 2, 'burned': 2, 'personalized': 2, 'genetics': 2, 'provide': 2, 'needs': 2, 'frightened': 2, 'skeptics': 2, 'listen': 2, 'essentially': 2, 'sleeping': 2, 'goldmine': 2, 'our': 2, 'core': 2, 'matter': 2, 'must': 2, 'blood': 2, 'here': 2, 'figure': 2, 'profit': 2, 'try': 2, 'numbered': 2, 'offer': 2, 'day': 2, 'didnt': 2, 'recognize': 2, 'petrified': 2, 'half': 2, 'most': 2, 'did': 2, 'testify': 2, 'some': 2, 'folding': 2, 'even': 2, 'nothing': 2, 'matters': 2, 'anymore': 2, 'kraken': 2, 'climbing': 2, 'bullshit': 2, 'exists': 2, 'debt': 2, 'learn': 2, 'keep': 2, 'stabbing': 2, 'knife': 2, 'taxing': 2, 'optimally': 2, 'passenger': 2, 'slave': 2, 'finger': 2, 'sewers': 2, 'ring': 2, 'reave': 2, 'culture': 2, 'hiding': 2, 'behind': 2, 'kill': 2, 'learned': 2, 'word': 2, 'cinema': 2, 'find': 2, 'precipice': 2, 'flying': 2, 'state': 2, 'drugs': 2, 'motherfucker': 2, 'stuck': 2, 'while': 2, 'say': 2, 'dead': 3, 'want': 3, 'us': 3, 'seal': 3, 'stop': 3, 'vision': 3, 'good': 3, 'side': 3, 'night': 3, 'shift': 3, 'exist': 3, 'met': 3, 'pay': 3, 'human': 3, 'lifes': 3, 'intro': 3, 'right': 3, 'act': 3, 'mouth': 3, 'broke': 3, 'said': 3, 'first': 3, 'open': 3, 'catch': 3, 'death': 3, 'wont': 3, 'adapt': 3, 'closer': 3, 'sullen': 3, 'steppin': 3, 'why': 3, 'cool': 3, 'rights': 3, 'only': 3, 'fucks': 3, 'best': 3, 'spend': 3, 'down': 3, 'farewell': 3, 'hopeless': 3, 'then': 3, 'pain': 3, 'heart': 3, 'moment': 3, 'til': 3, 'whats': 3, 'grave': 3, 'buy': 3, 'question': 3, 'sycophants': 3, 'hunting': 3, 'little': 3, 'bit': 3, 'about': 3, 'end': 4, 'think': 4, 'came': 4, 'bloods': 4, 'vultures': 4, 'outro': 4, 'towns': 4, 'stay': 4, 'dust': 4, 'wait': 4, 'make': 4, 'take': 4, 'bitches': 4, 'round': 4, 'spin': 4, 'real': 4, 'mat': 4, 'flame': 4, 'loud': 4, 'koolaid': 4, 'blazin': 4, 'fast': 4, '3': 4, 'man': 4, 'bridge': 4, 'back': 4, 'happens': 4, 'into': 4, 'rise': 4, 'skinned': 4, 'thick': 4, 'passage': 4, 'abused': 4, 'hot': 4, 'pothead': 4, 'yours': 4, 'split': 4, 'how': 4, 'bet': 4, 'own': 4, 'what': 5, 'fucked': 5, 'ill': 5, 'quick': 5, 'cause': 5, 'where': 5, 'every': 5, 'girls': 5, 'too': 5, 'was': 5, 'drop': 5, 'hope': 5, 'ive': 6, 'we': 6, 'know': 6, 'might': 6, 'now': 6, 'aint': 6, 'smoke': 6, 'fucking': 6, 'handle': 6, 'so': 6, 'feed': 6, 'through': 6, 'middle': 6, 'way': 6, 'if': 6, 'ocean': 6, 'much': 6, 'whenever': 6, 'wherever': 6, 'do': 6, '1': 7, 'will': 7, 'em': 7, '2': 7, 'more': 7, 'section': 7, 'please': 7, 'can': 7, 'ones': 7, 'stoic': 7, 'before': 7, 'myself': 7, 'never': 7, 'when': 8, 'from': 8, 'are': 8, 'just': 8, 'panic': 8, 'dirt': 8, 'youre': 8, 'refrain': 8, 'as': 9, 'by': 9, 'they': 9, 'have': 9, 'bathe': 9, 'bathory': 9, 'not': 10, 'been': 10, 'out': 10, 'baldhead': 10, 'chorus': 11, 'one': 11, 'be': 11, 'see': 11, 'for': 11, 'come': 11, 'cant': 11, 'at': 12, 'all': 12, 'up': 13, 'shit': 13, 'ya': 14, 'is': 14, 'off': 14, 'dont': 15, 'its': 16, 'but': 16, 'there': 16, 'time': 16, 'fuck': 17, 'me': 18, 'verse': 19, 'move': 19, 'get': 20, 'on': 21, 'black': 21, 'fuckin': 23, 'sick': 23, 'this': 24, 'go': 24, 'im': 27, 'in': 27, 'no': 29, 'girl': 30, 'that': 31, 'of': 33, 'to': 34, 'bitch': 34, 'your': 36, 'with': 40, 'body': 40, 'and': 44, 'whole': 46, '': 47, 'a': 53, 'it': 53, 'life': 54, 'i': 71, 'you': 71, 'the': 75, 'my': 78, 'like': 81}\n",
            "{'strangle': 2, 'stab': 2, 'til': 2, 'river': 2, 'gogogogogogogogo': 2, 'ivy': 2, 'wwwwwwwwhat': 2, 'ugh': 2, 'not': 2, 'flashing': 2, 'incision': 2, 'buildings': 2, 'police': 2, 'ring': 2, 'maxmaxmaxmaximise': 2, 'dick': 2, 'live': 2, 'its': 2, 'brokenits': 2, 'broken': 2, 'peels': 2, 'badger': 2, 'prowler': 2, 'powder': 2, 'out': 2, 'steals': 2, 'throw': 2, 'master': 2, 'vein': 2, 'top': 2, 'contrablood': 2, 'cabbie': 2, 'pound': 2, 'mystic': 2, 'say': 2, 'visions': 2, 'are': 2, 'crusty': 2, 'spin': 2, 'succeeding': 3, 'hold': 3, 'have': 3, 'remember': 3, 'lose': 3, 'violate': 3, 'feel': 3, 'make': 3, 'mad': 3, 'frigating': 3, 'bones': 3, 'while': 3, 'through': 3, 'got': 3, 'down': 3, 'act': 3, 'be': 3, 'model': 3, 'tv': 3, 'gesture': 3, 'ugly': 3, 'when': 4, 'motherfucking': 4, 'only': 4, 'will': 4, 'react': 4, 'im': 4, 'hate': 4, 'rolling': 4, 'overboard': 4, 'beliefs': 4, 'bounced': 4, 'mammmmmmmmmmmaximise': 4, 'flash': 4, 'incinerate': 4, 'life': 4, 'mea': 4, 'culpa': 4, 'sick': 4, 'was': 4, 'nowhere': 4, 'eggs': 4, 'eyelids': 4, 'floor': 5, 'now': 5, 'were': 5, 'hit': 5, 'heart': 5, 'this': 5, 'so': 5, 'skits': 5, 'all': 5, 'breath': 5, 'do': 5, 'want': 5, 'disappearing': 5, 'dont': 6, 'hard': 6, 'can': 6, 'body': 6, 'way': 6, 'attack': 6, 'red': 6, 'megalo': 6, 'inside': 6, 'some': 6, 'meaning': 6, 'as': 6, 'uh': 6, 'atttfuck': 6, 'and': 7, 'wax': 7, 'know': 7, 'in': 7, 'instead': 7, 'white': 7, 'bring': 8, 'that': 8, 'how': 8, 'what': 8, 'on': 8, 'beseech': 8, 'with': 8, 'until': 8, 'die': 8, 'has': 8, 'wish': 8, 'werent': 8, 'move': 9, 'blood': 9, 'fucking': 9, 'voice': 9, 'lights': 9, 'one': 9, 'ask': 9, 'into': 9, 'stand': 11, 'why': 11, 'shot': 11, 'break': 11, 'apart': 11, 'intriguing': 12, 'cant': 12, 'tell': 12, 'like': 12, 'no': 13, 'go': 13, 'am': 14, 'fuck': 14, 'scream': 14, 'slice': 14, 'oh': 14, 'of': 14, 'dog': 15, 'away': 16, 'ah': 16, 'ill': 16, 'appetite': 16, 'it': 20, 'is': 20, 'a': 23, 'the': 24, 'we': 24, 'speak': 27, 'ow': 30, 'my': 32, 'to': 33, 'your': 37, 'you': 39, 'black': 43, 'me': 51, 'i': 68, '': 112}\n",
            "{'hook': 2, '1': 2, 'with': 2, 'all': 2, 'never': 2, 'meant': 2, 'be': 2, 'in': 2, 'at': 2, 'know': 2, 'shit': 2, '2': 2, 'up': 2, 'put': 2, 'is': 2, 'from': 2, 'what': 2, 'but': 2, 'my': 3, 'of': 3, 'to': 3, 'you': 3, 'it': 3, 'mane': 3, 'blah': 3, 'verse': 4, 'me': 4, 'a': 4, 'for': 4, 'this': 5, '': 8, 'i': 8, 'more': 11, 'than': 12, 'fairy': 12, 'the': 15, 'go': 31, 'face': 31, 'make': 32, 'that': 33}\n",
            "{'schwa': 2, 'stop': 2, 'verse': 2, 'for': 2, 'reply': 2, 'like': 2, 'a': 2, 'now': 2, 'know': 2, 'worm': 2, 'got': 2, 'ride': 2, 'never': 2, 'is': 2, 'dogs': 2, 'off': 2, 'from': 2, 'man': 2, 'beef': 2, 'of': 2, 'code': 2, '': 3, 'dont': 3, 'just': 3, 'im': 3, 'on': 3, 'that': 3, 'with': 3, 'when': 4, 'sometimes': 4, 'your': 4, 'all': 4, 'to': 5, 'and': 5, 'we': 5, 'you': 7, 'i': 8, 'poser': 12, 'killer': 13, 'the': 20}\n",
            "{'black': 2, 'mist': 2, 'rise': 2, 'big': 2, 'dick': 2, 'never': 2, 'end': 2, 'i': 2, 'get': 2, 'in': 2, 'click': 2, 'night': 2, 'high': 2, 'told': 2, 'and': 2, 'where': 2, 'we': 2, 'go': 2, 'me': 2, 'his': 2, 'yeah': 2, 'its': 2, 'might': 2, 'bla': 3, 'you': 3, 'did': 3, 'why': 3, 'like': 3, 'day': 3, 'this': 3, 'sky': 3, 'is': 3, 'a': 4, 'through': 4, 'that': 4, 'it': 5, 'every': 5, 'fired': 6, 'up': 7, 'to': 8, 'of': 8, 'the': 19}\n"
          ]
        }
      ],
      "source": [
        "h = {}\n",
        "f = []\n",
        "for i in range(len(df.index)):\n",
        "    text = df.loc[i,'Lyrics']\n",
        "    text = re.sub(r\"[^\\w\\s]+\", '', text).lower()\n",
        "    # text = (text)\n",
        "    # text = re.sub(r\"[A-Z]\", '', text)\n",
        "    w = re.split(' |\\n',text)\n",
        "    h[df.loc[i,'names']] = w\n",
        "    a = Counter(w)\n",
        "    # print(a)\n",
        "    # h['freq'] = a\n",
        "    a = dict(sorted(a.items(), key=lambda x:x[1]))\n",
        "    a = {key:val for key, val in a.items() if val != 1}\n",
        "    print(a)\n",
        "    # df2 = pd.DataFrame.from_dict(dict(a), orient='index')\n",
        "    # # df2 = pd.DataFrame(a)\n",
        "    # df2.to_csv(\"/Users/alan/Downloads/SongAnalyzer/Freqs/\"+str(i)+\"hmmm.csv\")\n",
        "    # print(df2)\n",
        "    f.append(a)"
      ]
    },
    {
      "cell_type": "code",
      "execution_count": 203,
      "metadata": {},
      "outputs": [],
      "source": [
        "# df = pd.read_csv(\"DeathGripsDataset.csv\")\n",
        "# for i in df.index:\n",
        "#     d5 = pd.read_csv('/Users/alan/Downloads/SongAnalyzer/Freqs/'+str(i)+\"hmmm.csv\")\n",
        "#     f.append(d5)\n",
        "# df['Freqs'] = f\n",
        "# for i in f:\n",
        "#     if f[1] == 1:\n",
        "#         # f.remove(1)\n",
        "# print(f[0:1])\n",
        "# print(f)"
      ]
    },
    {
      "cell_type": "code",
      "execution_count": 204,
      "metadata": {},
      "outputs": [],
      "source": [
        "df = df.drop('Lyrics', axis='columns')\n",
        "df['Freqs'] = f\n",
        "df.to_csv(\"test2.csv\")"
      ]
    },
    {
      "cell_type": "code",
      "execution_count": 212,
      "metadata": {},
      "outputs": [
        {
          "name": "stdout",
          "output_type": "stream",
          "text": [
            "0\n"
          ]
        }
      ],
      "source": [
        "print(f.count('the'))"
      ]
    },
    {
      "cell_type": "code",
      "execution_count": null,
      "metadata": {},
      "outputs": [
        {
          "ename": "KeyError",
          "evalue": "'Lyrics'",
          "output_type": "error",
          "traceback": [
            "\u001b[0;31m---------------------------------------------------------------------------\u001b[0m",
            "\u001b[0;31mKeyError\u001b[0m                                  Traceback (most recent call last)",
            "File \u001b[0;32m/opt/homebrew/lib/python3.10/site-packages/pandas/core/indexes/base.py:3621\u001b[0m, in \u001b[0;36mIndex.get_loc\u001b[0;34m(self, key, method, tolerance)\u001b[0m\n\u001b[1;32m   3620\u001b[0m \u001b[39mtry\u001b[39;00m:\n\u001b[0;32m-> 3621\u001b[0m     \u001b[39mreturn\u001b[39;00m \u001b[39mself\u001b[39;49m\u001b[39m.\u001b[39;49m_engine\u001b[39m.\u001b[39;49mget_loc(casted_key)\n\u001b[1;32m   3622\u001b[0m \u001b[39mexcept\u001b[39;00m \u001b[39mKeyError\u001b[39;00m \u001b[39mas\u001b[39;00m err:\n",
            "File \u001b[0;32m/opt/homebrew/lib/python3.10/site-packages/pandas/_libs/index.pyx:136\u001b[0m, in \u001b[0;36mpandas._libs.index.IndexEngine.get_loc\u001b[0;34m()\u001b[0m\n",
            "File \u001b[0;32m/opt/homebrew/lib/python3.10/site-packages/pandas/_libs/index.pyx:163\u001b[0m, in \u001b[0;36mpandas._libs.index.IndexEngine.get_loc\u001b[0;34m()\u001b[0m\n",
            "File \u001b[0;32mpandas/_libs/hashtable_class_helper.pxi:5198\u001b[0m, in \u001b[0;36mpandas._libs.hashtable.PyObjectHashTable.get_item\u001b[0;34m()\u001b[0m\n",
            "File \u001b[0;32mpandas/_libs/hashtable_class_helper.pxi:5206\u001b[0m, in \u001b[0;36mpandas._libs.hashtable.PyObjectHashTable.get_item\u001b[0;34m()\u001b[0m\n",
            "\u001b[0;31mKeyError\u001b[0m: 'Lyrics'",
            "\nThe above exception was the direct cause of the following exception:\n",
            "\u001b[0;31mKeyError\u001b[0m                                  Traceback (most recent call last)",
            "Cell \u001b[0;32mIn[189], line 3\u001b[0m\n\u001b[1;32m      1\u001b[0m h \u001b[39m=\u001b[39m []\n\u001b[1;32m      2\u001b[0m \u001b[39mfor\u001b[39;00m i \u001b[39min\u001b[39;00m \u001b[39mrange\u001b[39m(\u001b[39mlen\u001b[39m(df\u001b[39m.\u001b[39mindex)):\n\u001b[0;32m----> 3\u001b[0m     text \u001b[39m=\u001b[39m df\u001b[39m.\u001b[39;49mloc[i,\u001b[39m'\u001b[39;49m\u001b[39mLyrics\u001b[39;49m\u001b[39m'\u001b[39;49m]\n\u001b[1;32m      4\u001b[0m     \u001b[39m# print(i)\u001b[39;00m\n\u001b[1;32m      5\u001b[0m     \u001b[39m# print(text)\u001b[39;00m\n\u001b[1;32m      6\u001b[0m     \u001b[39m# print(df['Lyrics'][i])\u001b[39;00m\n\u001b[1;32m      7\u001b[0m     w \u001b[39m=\u001b[39m re\u001b[39m.\u001b[39msplit(\u001b[39m'\u001b[39m\u001b[39m |\u001b[39m\u001b[39m\\n\u001b[39;00m\u001b[39m'\u001b[39m,text)\n",
            "File \u001b[0;32m/opt/homebrew/lib/python3.10/site-packages/pandas/core/indexing.py:960\u001b[0m, in \u001b[0;36m_LocationIndexer.__getitem__\u001b[0;34m(self, key)\u001b[0m\n\u001b[1;32m    958\u001b[0m     key \u001b[39m=\u001b[39m \u001b[39mtuple\u001b[39m(com\u001b[39m.\u001b[39mapply_if_callable(x, \u001b[39mself\u001b[39m\u001b[39m.\u001b[39mobj) \u001b[39mfor\u001b[39;00m x \u001b[39min\u001b[39;00m key)\n\u001b[1;32m    959\u001b[0m     \u001b[39mif\u001b[39;00m \u001b[39mself\u001b[39m\u001b[39m.\u001b[39m_is_scalar_access(key):\n\u001b[0;32m--> 960\u001b[0m         \u001b[39mreturn\u001b[39;00m \u001b[39mself\u001b[39;49m\u001b[39m.\u001b[39;49mobj\u001b[39m.\u001b[39;49m_get_value(\u001b[39m*\u001b[39;49mkey, takeable\u001b[39m=\u001b[39;49m\u001b[39mself\u001b[39;49m\u001b[39m.\u001b[39;49m_takeable)\n\u001b[1;32m    961\u001b[0m     \u001b[39mreturn\u001b[39;00m \u001b[39mself\u001b[39m\u001b[39m.\u001b[39m_getitem_tuple(key)\n\u001b[1;32m    962\u001b[0m \u001b[39melse\u001b[39;00m:\n\u001b[1;32m    963\u001b[0m     \u001b[39m# we by definition only have the 0th axis\u001b[39;00m\n",
            "File \u001b[0;32m/opt/homebrew/lib/python3.10/site-packages/pandas/core/frame.py:3615\u001b[0m, in \u001b[0;36mDataFrame._get_value\u001b[0;34m(self, index, col, takeable)\u001b[0m\n\u001b[1;32m   3612\u001b[0m     series \u001b[39m=\u001b[39m \u001b[39mself\u001b[39m\u001b[39m.\u001b[39m_ixs(col, axis\u001b[39m=\u001b[39m\u001b[39m1\u001b[39m)\n\u001b[1;32m   3613\u001b[0m     \u001b[39mreturn\u001b[39;00m series\u001b[39m.\u001b[39m_values[index]\n\u001b[0;32m-> 3615\u001b[0m series \u001b[39m=\u001b[39m \u001b[39mself\u001b[39;49m\u001b[39m.\u001b[39;49m_get_item_cache(col)\n\u001b[1;32m   3616\u001b[0m engine \u001b[39m=\u001b[39m \u001b[39mself\u001b[39m\u001b[39m.\u001b[39mindex\u001b[39m.\u001b[39m_engine\n\u001b[1;32m   3618\u001b[0m \u001b[39mif\u001b[39;00m \u001b[39mnot\u001b[39;00m \u001b[39misinstance\u001b[39m(\u001b[39mself\u001b[39m\u001b[39m.\u001b[39mindex, MultiIndex):\n\u001b[1;32m   3619\u001b[0m     \u001b[39m# CategoricalIndex: Trying to use the engine fastpath may give incorrect\u001b[39;00m\n\u001b[1;32m   3620\u001b[0m     \u001b[39m#  results if our categories are integers that dont match our codes\u001b[39;00m\n\u001b[1;32m   3621\u001b[0m     \u001b[39m# IntervalIndex: IntervalTree has no get_loc\u001b[39;00m\n",
            "File \u001b[0;32m/opt/homebrew/lib/python3.10/site-packages/pandas/core/frame.py:3931\u001b[0m, in \u001b[0;36mDataFrame._get_item_cache\u001b[0;34m(self, item)\u001b[0m\n\u001b[1;32m   3926\u001b[0m res \u001b[39m=\u001b[39m cache\u001b[39m.\u001b[39mget(item)\n\u001b[1;32m   3927\u001b[0m \u001b[39mif\u001b[39;00m res \u001b[39mis\u001b[39;00m \u001b[39mNone\u001b[39;00m:\n\u001b[1;32m   3928\u001b[0m     \u001b[39m# All places that call _get_item_cache have unique columns,\u001b[39;00m\n\u001b[1;32m   3929\u001b[0m     \u001b[39m#  pending resolution of GH#33047\u001b[39;00m\n\u001b[0;32m-> 3931\u001b[0m     loc \u001b[39m=\u001b[39m \u001b[39mself\u001b[39;49m\u001b[39m.\u001b[39;49mcolumns\u001b[39m.\u001b[39;49mget_loc(item)\n\u001b[1;32m   3932\u001b[0m     res \u001b[39m=\u001b[39m \u001b[39mself\u001b[39m\u001b[39m.\u001b[39m_ixs(loc, axis\u001b[39m=\u001b[39m\u001b[39m1\u001b[39m)\n\u001b[1;32m   3934\u001b[0m     cache[item] \u001b[39m=\u001b[39m res\n",
            "File \u001b[0;32m/opt/homebrew/lib/python3.10/site-packages/pandas/core/indexes/base.py:3623\u001b[0m, in \u001b[0;36mIndex.get_loc\u001b[0;34m(self, key, method, tolerance)\u001b[0m\n\u001b[1;32m   3621\u001b[0m     \u001b[39mreturn\u001b[39;00m \u001b[39mself\u001b[39m\u001b[39m.\u001b[39m_engine\u001b[39m.\u001b[39mget_loc(casted_key)\n\u001b[1;32m   3622\u001b[0m \u001b[39mexcept\u001b[39;00m \u001b[39mKeyError\u001b[39;00m \u001b[39mas\u001b[39;00m err:\n\u001b[0;32m-> 3623\u001b[0m     \u001b[39mraise\u001b[39;00m \u001b[39mKeyError\u001b[39;00m(key) \u001b[39mfrom\u001b[39;00m \u001b[39merr\u001b[39;00m\n\u001b[1;32m   3624\u001b[0m \u001b[39mexcept\u001b[39;00m \u001b[39mTypeError\u001b[39;00m:\n\u001b[1;32m   3625\u001b[0m     \u001b[39m# If we have a listlike key, _check_indexing_error will raise\u001b[39;00m\n\u001b[1;32m   3626\u001b[0m     \u001b[39m#  InvalidIndexError. Otherwise we fall through and re-raise\u001b[39;00m\n\u001b[1;32m   3627\u001b[0m     \u001b[39m#  the TypeError.\u001b[39;00m\n\u001b[1;32m   3628\u001b[0m     \u001b[39mself\u001b[39m\u001b[39m.\u001b[39m_check_indexing_error(key)\n",
            "\u001b[0;31mKeyError\u001b[0m: 'Lyrics'"
          ]
        }
      ],
      "source": [
        "h = []\n",
        "for i in range(len(df.index)):\n",
        "    text = df.loc[i,'Lyrics']\n",
        "    # print(i)\n",
        "    # print(text)\n",
        "    # print(df['Lyrics'][i])\n",
        "    w = re.split(' |\\n',text)\n",
        "    # print(type(w))\n",
        "    h.append(w)\n",
        "counter = 0\n",
        "for j in h:\n",
        "    # print(counter)\n",
        "    # print(j)\n",
        "    j = re.sub(r\"[^\\w\\s]+\", '', str(j))\n",
        "    # counter = counter + 1\n",
        "# a = Counter(h)\n",
        "a = generateTable(h)\n",
        "# print(a)\n",
        "df2 = pd.DataFrame.from_dict(a, orient='index')\n",
        "df2.to_csv(\"hmmm.csv\")"
      ]
    }
  ],
  "metadata": {
    "colab": {
      "provenance": []
    },
    "kernelspec": {
      "display_name": "Python 3",
      "name": "python3"
    },
    "language_info": {
      "codemirror_mode": {
        "name": "ipython",
        "version": 3
      },
      "file_extension": ".py",
      "mimetype": "text/x-python",
      "name": "python",
      "nbconvert_exporter": "python",
      "pygments_lexer": "ipython3",
      "version": "3.10.9"
    }
  },
  "nbformat": 4,
  "nbformat_minor": 0
}
