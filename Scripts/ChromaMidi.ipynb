{
 "cells": [
  {
   "cell_type": "code",
   "execution_count": 26,
   "metadata": {},
   "outputs": [
    {
     "ename": "ImportError",
     "evalue": "cannot import name 'MutableSequence' from 'collections' (/opt/anaconda3/envs/name_of_my_env/lib/python3.10/collections/__init__.py)",
     "output_type": "error",
     "traceback": [
      "\u001b[0;31m---------------------------------------------------------------------------\u001b[0m",
      "\u001b[0;31mImportError\u001b[0m                               Traceback (most recent call last)",
      "Cell \u001b[0;32mIn[26], line 8\u001b[0m\n\u001b[1;32m      5\u001b[0m \u001b[39mimport\u001b[39;00m \u001b[39msubprocess\u001b[39;00m\n\u001b[1;32m      7\u001b[0m \u001b[39mimport\u001b[39;00m \u001b[39mcollections\u001b[39;00m\n\u001b[0;32m----> 8\u001b[0m \u001b[39mimport\u001b[39;00m \u001b[39mmadmom\u001b[39;00m\n\u001b[1;32m      9\u001b[0m \u001b[39mimport\u001b[39;00m \u001b[39mnumpy\u001b[39;00m \u001b[39mas\u001b[39;00m \u001b[39mnp\u001b[39;00m\n\u001b[1;32m     10\u001b[0m \u001b[39mimport\u001b[39;00m \u001b[39mscipy\u001b[39;00m\n",
      "File \u001b[0;32m/opt/anaconda3/envs/name_of_my_env/lib/python3.10/site-packages/madmom/__init__.py:24\u001b[0m\n\u001b[1;32m     21\u001b[0m \u001b[39mimport\u001b[39;00m \u001b[39mpkg_resources\u001b[39;00m\n\u001b[1;32m     23\u001b[0m \u001b[39m# import all packages\u001b[39;00m\n\u001b[0;32m---> 24\u001b[0m \u001b[39mfrom\u001b[39;00m \u001b[39m.\u001b[39;00m \u001b[39mimport\u001b[39;00m audio, evaluation, features, io, ml, models, processors, utils\n\u001b[1;32m     26\u001b[0m \u001b[39m# define a version variable\u001b[39;00m\n\u001b[1;32m     27\u001b[0m __version__ \u001b[39m=\u001b[39m pkg_resources\u001b[39m.\u001b[39mget_distribution(\u001b[39m\"\u001b[39m\u001b[39mmadmom\u001b[39m\u001b[39m\"\u001b[39m)\u001b[39m.\u001b[39mversion\n",
      "File \u001b[0;32m/opt/anaconda3/envs/name_of_my_env/lib/python3.10/site-packages/madmom/audio/__init__.py:27\u001b[0m\n\u001b[1;32m     24\u001b[0m \u001b[39mfrom\u001b[39;00m \u001b[39m__future__\u001b[39;00m \u001b[39mimport\u001b[39;00m absolute_import, division, print_function\n\u001b[1;32m     26\u001b[0m \u001b[39m# import the submodules\u001b[39;00m\n\u001b[0;32m---> 27\u001b[0m \u001b[39mfrom\u001b[39;00m \u001b[39m.\u001b[39;00m \u001b[39mimport\u001b[39;00m comb_filters, filters, signal, spectrogram, stft\n\u001b[1;32m     28\u001b[0m \u001b[39m# import classes used often\u001b[39;00m\n\u001b[1;32m     29\u001b[0m \u001b[39mfrom\u001b[39;00m \u001b[39m.\u001b[39;00m\u001b[39mchroma\u001b[39;00m \u001b[39mimport\u001b[39;00m DeepChromaProcessor\n",
      "File \u001b[0;32mmadmom/audio/comb_filters.pyx:15\u001b[0m, in \u001b[0;36minit madmom.audio.comb_filters\u001b[0;34m()\u001b[0m\n",
      "File \u001b[0;32m/opt/anaconda3/envs/name_of_my_env/lib/python3.10/site-packages/madmom/processors.py:23\u001b[0m\n\u001b[1;32m     21\u001b[0m \u001b[39mimport\u001b[39;00m \u001b[39mos\u001b[39;00m\n\u001b[1;32m     22\u001b[0m \u001b[39mimport\u001b[39;00m \u001b[39msys\u001b[39;00m\n\u001b[0;32m---> 23\u001b[0m \u001b[39mfrom\u001b[39;00m \u001b[39mcollections\u001b[39;00m \u001b[39mimport\u001b[39;00m MutableSequence\n\u001b[1;32m     25\u001b[0m \u001b[39mimport\u001b[39;00m \u001b[39mnumpy\u001b[39;00m \u001b[39mas\u001b[39;00m \u001b[39mnp\u001b[39;00m\n\u001b[1;32m     27\u001b[0m \u001b[39mfrom\u001b[39;00m \u001b[39m.\u001b[39;00m\u001b[39mutils\u001b[39;00m \u001b[39mimport\u001b[39;00m integer_types\n",
      "\u001b[0;31mImportError\u001b[0m: cannot import name 'MutableSequence' from 'collections' (/opt/anaconda3/envs/name_of_my_env/lib/python3.10/collections/__init__.py)"
     ]
    }
   ],
   "source": [
    "import pandas as pd\n",
    "import numpy as np\n",
    "import matplotlib.pyplot as plt\n",
    "import os\n",
    "import subprocess\n",
    "\n",
    "import collections\n",
    "import madmom\n",
    "import numpy as np\n",
    "import scipy\n",
    "import pretty_midi\n",
    "\n",
    "from sys import argv\n",
    "from os.path import exists\n"
   ]
  },
  {
   "cell_type": "code",
   "execution_count": 10,
   "metadata": {},
   "outputs": [],
   "source": [
    "# x, sr = librosa.load('../ThePowersThatBMP3/09_On_GP.mp3')\n",
    "# assign directory\n",
    "directory = '../Discography/Original/' \n",
    "\n",
    "# iterate over files in\n",
    "# that directory\n",
    "for filename in os.listdir(directory):\n",
    "    f = os.path.join(directory, filename)\n",
    "    # checking if it is a file\n",
    "    if os.path.isfile(f):\n",
    "        # p = subprocess.call([\"python chroma_to_midi.py\",f,f[-4]+'.png'])\n",
    "        # lines = ['Readme', 'How to write text files in Python']\n",
    "        with open('filepaths.txt', 'w') as fp:\n",
    "            fp.write(f)\n",
    "            fp.write('\\n')"
   ]
  },
  {
   "cell_type": "code",
   "execution_count": 27,
   "metadata": {},
   "outputs": [
    {
     "name": "stdout",
     "output_type": "stream",
     "text": [
      "['Exmilitary', 'ThePowersThatB', 'GovernmentPlates', 'TheMoneyStore', 'NoLoveDeepWeb', 'Steroids', 'YearOfTheSnitch', 'BottomlessPit']\n"
     ]
    }
   ],
   "source": [
    "albums = os.listdir('../Discography/Original/')\n",
    "albums.remove('.DS_Store')\n",
    "# albums.remove('chromagrams')\n",
    "print(albums)\n",
    "chromas = []\n",
    "with open('filepaths.txt', 'w') as fp:\n",
    "    for album in albums:\n",
    "    # print(os.listdir('../Discography/'+album+'/'))\n",
    "        for f in os.listdir('../Discography/Original/'+album+'/'):\n",
    "            if f[-3:] == 'mp3' and os.path.isfile(os.path.join('../Discography/Original/'+album+'/', f)):\n",
    "                # x, sr = librosa.load(os.path.join('../Discography/Original/'+album+'/', f))\n",
    "                fp.write(os.path.join('../Discography/Original/'+album+'/', f))\n",
    "                fp.write('\\n')"
   ]
  },
  {
   "cell_type": "code",
   "execution_count": 31,
   "metadata": {},
   "outputs": [],
   "source": [
    "fp = open('filepaths.txt', 'r')\n",
    "with open('filenames.txt', 'w') as fn:\n",
    "    for l in fp:\n",
    "        fn.write(l[:-5]+'.midi')\n",
    "        fn.write('\\n')"
   ]
  },
  {
   "cell_type": "code",
   "execution_count": 32,
   "metadata": {},
   "outputs": [],
   "source": [
    "fp = open('filepaths.txt', 'r')\n",
    "# fn = open('filenames.txt', 'r')\n",
    "\n",
    "with open('commands.txt', 'w') as cm:\n",
    "    for l in fp:\n",
    "        cm.write('python chroma_to_midi.py ' + l + ' ' + l[:-5]+'.midi 200\\n')"
   ]
  },
  {
   "cell_type": "code",
   "execution_count": null,
   "metadata": {},
   "outputs": [],
   "source": [
    "fp = open('filepaths.txt', 'r')\n",
    "# fn = open('filenames.txt', 'r')\n",
    "\n",
    "with open('filemaker.txt', 'w') as fm:\n",
    "    for l in fp:\n",
    "        fm.write('touch '+ l[:-5]+'.midi\\n')"
   ]
  },
  {
   "cell_type": "code",
   "execution_count": 21,
   "metadata": {},
   "outputs": [
    {
     "ename": "ImportError",
     "evalue": "cannot import name 'MutableSequence' from 'collections' (/opt/anaconda3/envs/name_of_my_env/lib/python3.10/collections/__init__.py)",
     "output_type": "error",
     "traceback": [
      "\u001b[0;31m---------------------------------------------------------------------------\u001b[0m",
      "\u001b[0;31mImportError\u001b[0m                               Traceback (most recent call last)",
      "Cell \u001b[0;32mIn[21], line 5\u001b[0m\n\u001b[1;32m      1\u001b[0m \u001b[39m\"\"\"\u001b[39;00m\n\u001b[1;32m      2\u001b[0m \u001b[39mcreate a chromagram from an audio file and then render that chromagram to MIDI\u001b[39;00m\n\u001b[1;32m      3\u001b[0m \u001b[39m\"\"\"\u001b[39;00m \n\u001b[0;32m----> 5\u001b[0m \u001b[39mimport\u001b[39;00m \u001b[39mmadmom\u001b[39;00m\n\u001b[1;32m      6\u001b[0m \u001b[39mimport\u001b[39;00m \u001b[39mnumpy\u001b[39;00m \u001b[39mas\u001b[39;00m \u001b[39mnp\u001b[39;00m\n\u001b[1;32m      7\u001b[0m \u001b[39mimport\u001b[39;00m \u001b[39mscipy\u001b[39;00m\n",
      "File \u001b[0;32m/opt/anaconda3/envs/name_of_my_env/lib/python3.10/site-packages/madmom/__init__.py:24\u001b[0m\n\u001b[1;32m     21\u001b[0m \u001b[39mimport\u001b[39;00m \u001b[39mpkg_resources\u001b[39;00m\n\u001b[1;32m     23\u001b[0m \u001b[39m# import all packages\u001b[39;00m\n\u001b[0;32m---> 24\u001b[0m \u001b[39mfrom\u001b[39;00m \u001b[39m.\u001b[39;00m \u001b[39mimport\u001b[39;00m audio, evaluation, features, io, ml, models, processors, utils\n\u001b[1;32m     26\u001b[0m \u001b[39m# define a version variable\u001b[39;00m\n\u001b[1;32m     27\u001b[0m __version__ \u001b[39m=\u001b[39m pkg_resources\u001b[39m.\u001b[39mget_distribution(\u001b[39m\"\u001b[39m\u001b[39mmadmom\u001b[39m\u001b[39m\"\u001b[39m)\u001b[39m.\u001b[39mversion\n",
      "File \u001b[0;32m/opt/anaconda3/envs/name_of_my_env/lib/python3.10/site-packages/madmom/audio/__init__.py:27\u001b[0m\n\u001b[1;32m     24\u001b[0m \u001b[39mfrom\u001b[39;00m \u001b[39m__future__\u001b[39;00m \u001b[39mimport\u001b[39;00m absolute_import, division, print_function\n\u001b[1;32m     26\u001b[0m \u001b[39m# import the submodules\u001b[39;00m\n\u001b[0;32m---> 27\u001b[0m \u001b[39mfrom\u001b[39;00m \u001b[39m.\u001b[39;00m \u001b[39mimport\u001b[39;00m comb_filters, filters, signal, spectrogram, stft\n\u001b[1;32m     28\u001b[0m \u001b[39m# import classes used often\u001b[39;00m\n\u001b[1;32m     29\u001b[0m \u001b[39mfrom\u001b[39;00m \u001b[39m.\u001b[39;00m\u001b[39mchroma\u001b[39;00m \u001b[39mimport\u001b[39;00m DeepChromaProcessor\n",
      "File \u001b[0;32mmadmom/audio/comb_filters.pyx:15\u001b[0m, in \u001b[0;36minit madmom.audio.comb_filters\u001b[0;34m()\u001b[0m\n",
      "File \u001b[0;32m/opt/anaconda3/envs/name_of_my_env/lib/python3.10/site-packages/madmom/processors.py:23\u001b[0m\n\u001b[1;32m     21\u001b[0m \u001b[39mimport\u001b[39;00m \u001b[39mos\u001b[39;00m\n\u001b[1;32m     22\u001b[0m \u001b[39mimport\u001b[39;00m \u001b[39msys\u001b[39;00m\n\u001b[0;32m---> 23\u001b[0m \u001b[39mfrom\u001b[39;00m \u001b[39mcollections\u001b[39;00m \u001b[39mimport\u001b[39;00m MutableSequence\n\u001b[1;32m     25\u001b[0m \u001b[39mimport\u001b[39;00m \u001b[39mnumpy\u001b[39;00m \u001b[39mas\u001b[39;00m \u001b[39mnp\u001b[39;00m\n\u001b[1;32m     27\u001b[0m \u001b[39mfrom\u001b[39;00m \u001b[39m.\u001b[39;00m\u001b[39mutils\u001b[39;00m \u001b[39mimport\u001b[39;00m integer_types\n",
      "\u001b[0;31mImportError\u001b[0m: cannot import name 'MutableSequence' from 'collections' (/opt/anaconda3/envs/name_of_my_env/lib/python3.10/collections/__init__.py)"
     ]
    }
   ],
   "source": [
    "\"\"\"\n",
    "create a chromagram from an audio file and then render that chromagram to MIDI\n",
    "\"\"\" \n",
    "\n",
    "# Run the script from the command line\n",
    "script, path_to_audio, path_to_midi, tempo_var = argv\n",
    "\n",
    "# Create the chromagram\n",
    "dcp = madmom.audio.chroma.DeepChromaProcessor()\n",
    "chroma = dcp(path_to_audio)\n",
    "\n",
    "# Function to threshhold the chroma array to only the top 3 strongest pitch classes. \n",
    "def threshhold_chroma(chromagram):\n",
    "\t# Create an array of zeros the same size/dimension as the chromagram\n",
    "    chromagram_out = scipy.zeros_like(chromagram)  \n",
    "    # Loop through the chroma_vector the size of the zeros array and sort for the strongest pitch centers\n",
    "    for i, chroma_vector in enumerate(chromagram):\n",
    "        chromagram_out[i, chroma_vector.argsort()[::-1][:3]] = [10, 9, 8]\n",
    "   \n",
    "    return chromagram_out\n",
    "\n",
    "# Call the threshholding function\n",
    "chroma_out = threshhold_chroma(chroma)\n",
    "\n",
    "# Function to create our MIDI file based on the above sorted chroma array\n",
    "def chroma_to_midi(chromagram):\n",
    "\n",
    "    chroma_midi = pretty_midi.PrettyMIDI(midi_file=None, resolution=220, initial_tempo=int(tempo_var))\n",
    "    piano_program = pretty_midi.instrument_name_to_program('Acoustic Grand Piano')\n",
    "    piano = pretty_midi.Instrument(program=piano_program)\n",
    "    \n",
    "    start=0.0\n",
    "    end=0.0\n",
    "    make_a_chord = 0\n",
    "    vi = 0\n",
    "    last_vector = []\n",
    "\n",
    "    # Loop through the chroma vectors of the array by their vector_index\n",
    "    for vector_index, chroma_vector in enumerate(chromagram):\n",
    "    \t# Everytime we loop through, increase the point in the MIDI file that we are writing by the framesize of the original chromagram\n",
    "        end+=0.1\n",
    "        # If it's the first note of the song, or the tonal centers' balance have changed, increase the vector index counter and tell the script we want to make a new chord\n",
    "        if vi == 0 or not np.array_equal(chroma_vector,last_vector):\n",
    "            make_a_chord = 1\n",
    "            vi+=1 \n",
    "        # If the tonal centers have not changed, don't \n",
    "        else:\n",
    "            make_a_chord = 0\n",
    "            vi+=1 \n",
    "\n",
    "        if make_a_chord == 1:\n",
    "        \t# Loop through the current vector of chroma_notes by their chroma_note_index\n",
    "            for chroma_note_index, chroma_note in enumerate(last_vector):\n",
    "            \t# If it's the strongest chroma center, make a 127 velocity note and append to the pretty_midi object\n",
    "                if chroma_note == 10:\n",
    "                    note = pretty_midi.Note(velocity=127, pitch=(chroma_note_index+60), start=start, end=end)\n",
    "                    piano.notes.append(note)\n",
    "                # If it's the second strongest chroma center, make a 64 velocity note and append to the pretty_midi object       \n",
    "                elif chroma_note == 9:\n",
    "                    note = pretty_midi.Note(velocity=64, pitch=(chroma_note_index+60), start=start, end=end)\n",
    "                    piano.notes.append(note)   \n",
    "                # If it's the third strongest chroma center, make a 1 velocity note and append to the pretty_midi object           \n",
    "                elif chroma_note == 8:\n",
    "                    note = pretty_midi.Note(velocity=1, pitch=(chroma_note_index+60), start=start, end=end)\n",
    "                    piano.notes.append(note)   \n",
    "                else:\n",
    "                    pass\n",
    "            # Set the start of the next time we write a note to the end time\n",
    "            start=end                \n",
    "        else:\n",
    "            pass\n",
    "        # Set the last_vector, so that the next time we loop through we have a state to compare to and decide whether or not we need to write a new MIDI chord\n",
    "        last_vector = chroma_vector\n",
    "    # Add the MIDI we just made to the piano instrument   \n",
    "    chroma_midi.instruments.append(piano)\n",
    "    # Write the MIDI file to a filename we specified above\n",
    "    chroma_midi.write(path_to_midi)\n",
    "    return chroma_midi\n",
    "\n",
    "# Run the function    \n",
    "chroma_to_midi(chroma_out)"
   ]
  },
  {
   "cell_type": "code",
   "execution_count": 22,
   "metadata": {},
   "outputs": [
    {
     "ename": "NameError",
     "evalue": "name 'madmom' is not defined",
     "output_type": "error",
     "traceback": [
      "\u001b[0;31m---------------------------------------------------------------------------\u001b[0m",
      "\u001b[0;31mNameError\u001b[0m                                 Traceback (most recent call last)",
      "Cell \u001b[0;32mIn[22], line 6\u001b[0m\n\u001b[1;32m      4\u001b[0m path_to_midi \u001b[39m=\u001b[39m p[\u001b[39m-\u001b[39m\u001b[39m4\u001b[39m]\u001b[39m+\u001b[39m\u001b[39m'\u001b[39m\u001b[39m.midi\u001b[39m\u001b[39m'\u001b[39m\n\u001b[1;32m      5\u001b[0m tempo_var \u001b[39m=\u001b[39m \u001b[39m200\u001b[39m\n\u001b[0;32m----> 6\u001b[0m dcp \u001b[39m=\u001b[39m madmom\u001b[39m.\u001b[39maudio\u001b[39m.\u001b[39mchroma\u001b[39m.\u001b[39mDeepChromaProcessor()\n\u001b[1;32m      7\u001b[0m chroma \u001b[39m=\u001b[39m dcp(path_to_audio)\n\u001b[1;32m      8\u001b[0m chroma_out \u001b[39m=\u001b[39m threshhold_chroma(chroma)\n",
      "\u001b[0;31mNameError\u001b[0m: name 'madmom' is not defined"
     ]
    }
   ],
   "source": [
    "fp = open('filepaths.txt', 'r')\n",
    "for p in fp:\n",
    "    path_to_audio = p\n",
    "    path_to_midi = p[-4]+'.midi'\n",
    "    tempo_var = 200\n",
    "    dcp = madmom.audio.chroma.DeepChromaProcessor()\n",
    "    chroma = dcp(path_to_audio)\n",
    "    chroma_out = threshhold_chroma(chroma)\n",
    "    chroma_to_midi(chroma_out)"
   ]
  }
 ],
 "metadata": {
  "kernelspec": {
   "display_name": "Python 3",
   "language": "python",
   "name": "python3"
  },
  "language_info": {
   "codemirror_mode": {
    "name": "ipython",
    "version": 3
   },
   "file_extension": ".py",
   "mimetype": "text/x-python",
   "name": "python",
   "nbconvert_exporter": "python",
   "pygments_lexer": "ipython3",
   "version": "3.10.9"
  },
  "orig_nbformat": 4
 },
 "nbformat": 4,
 "nbformat_minor": 2
}
